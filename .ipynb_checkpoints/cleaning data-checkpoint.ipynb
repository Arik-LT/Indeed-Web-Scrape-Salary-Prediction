{
 "cells": [
  {
   "cell_type": "code",
   "execution_count": 490,
   "id": "511cbbe3",
   "metadata": {
    "ExecuteTime": {
     "end_time": "2022-05-15T20:50:02.716831Z",
     "start_time": "2022-05-15T20:50:02.709569Z"
    }
   },
   "outputs": [],
   "source": [
    "import pandas as pd\n",
    "import re\n",
    "import numpy as np"
   ]
  },
  {
   "cell_type": "code",
   "execution_count": 491,
   "id": "43fdd0c6",
   "metadata": {
    "ExecuteTime": {
     "end_time": "2022-05-15T20:50:03.225731Z",
     "start_time": "2022-05-15T20:50:03.205657Z"
    }
   },
   "outputs": [],
   "source": [
    "df_salary = pd.read_csv('job_listings_salary.csv')"
   ]
  },
  {
   "cell_type": "code",
   "execution_count": 492,
   "id": "b0c291fe",
   "metadata": {
    "ExecuteTime": {
     "end_time": "2022-05-15T20:50:03.366840Z",
     "start_time": "2022-05-15T20:50:03.361833Z"
    }
   },
   "outputs": [
    {
     "data": {
      "text/html": [
       "<div>\n",
       "<style scoped>\n",
       "    .dataframe tbody tr th:only-of-type {\n",
       "        vertical-align: middle;\n",
       "    }\n",
       "\n",
       "    .dataframe tbody tr th {\n",
       "        vertical-align: top;\n",
       "    }\n",
       "\n",
       "    .dataframe thead th {\n",
       "        text-align: right;\n",
       "    }\n",
       "</style>\n",
       "<table border=\"1\" class=\"dataframe\">\n",
       "  <thead>\n",
       "    <tr style=\"text-align: right;\">\n",
       "      <th></th>\n",
       "      <th>job_title</th>\n",
       "      <th>company</th>\n",
       "      <th>location</th>\n",
       "      <th>salary</th>\n",
       "      <th>country</th>\n",
       "    </tr>\n",
       "  </thead>\n",
       "  <tbody>\n",
       "    <tr>\n",
       "      <th>0</th>\n",
       "      <td>Marketing Data analyst</td>\n",
       "      <td>HAYS</td>\n",
       "      <td>Melbourne VIC</td>\n",
       "      <td>$80,000 a year</td>\n",
       "      <td>australia</td>\n",
       "    </tr>\n",
       "    <tr>\n",
       "      <th>1</th>\n",
       "      <td>Supply Chain Analyst</td>\n",
       "      <td>Michael Page</td>\n",
       "      <td>Melbourne VIC</td>\n",
       "      <td>$80,000 - $90,000 a year</td>\n",
       "      <td>australia</td>\n",
       "    </tr>\n",
       "    <tr>\n",
       "      <th>2</th>\n",
       "      <td>Data Architect - Financial Services - Data &amp; A...</td>\n",
       "      <td>EY</td>\n",
       "      <td>Melbourne VIC 3000</td>\n",
       "      <td>$90,000 a year</td>\n",
       "      <td>australia</td>\n",
       "    </tr>\n",
       "    <tr>\n",
       "      <th>3</th>\n",
       "      <td>Senior Data Business Analyst</td>\n",
       "      <td>Talent International</td>\n",
       "      <td>Melbourne VIC</td>\n",
       "      <td>$900 - $1,200 a day</td>\n",
       "      <td>australia</td>\n",
       "    </tr>\n",
       "    <tr>\n",
       "      <th>4</th>\n",
       "      <td>Senior Data Warehouse Analyst - Education</td>\n",
       "      <td>Charterhouse</td>\n",
       "      <td>Docklands VIC</td>\n",
       "      <td>$116,547 a year</td>\n",
       "      <td>australia</td>\n",
       "    </tr>\n",
       "  </tbody>\n",
       "</table>\n",
       "</div>"
      ],
      "text/plain": [
       "                                           job_title               company  \\\n",
       "0                             Marketing Data analyst                  HAYS   \n",
       "1                               Supply Chain Analyst          Michael Page   \n",
       "2  Data Architect - Financial Services - Data & A...                    EY   \n",
       "3                       Senior Data Business Analyst  Talent International   \n",
       "4          Senior Data Warehouse Analyst - Education          Charterhouse   \n",
       "\n",
       "             location                    salary    country  \n",
       "0       Melbourne VIC            $80,000 a year  australia  \n",
       "1       Melbourne VIC  $80,000 - $90,000 a year  australia  \n",
       "2  Melbourne VIC 3000            $90,000 a year  australia  \n",
       "3       Melbourne VIC       $900 - $1,200 a day  australia  \n",
       "4       Docklands VIC           $116,547 a year  australia  "
      ]
     },
     "execution_count": 492,
     "metadata": {},
     "output_type": "execute_result"
    }
   ],
   "source": [
    "df_salary.head()"
   ]
  },
  {
   "cell_type": "code",
   "execution_count": 493,
   "id": "5d746550",
   "metadata": {
    "ExecuteTime": {
     "end_time": "2022-05-15T20:50:03.493435Z",
     "start_time": "2022-05-15T20:50:03.489265Z"
    }
   },
   "outputs": [],
   "source": [
    "hour = 0\n",
    "day = 0\n",
    "week = 0\n",
    "month = 0\n",
    "year = 0\n",
    "other = 0\n",
    "other_index = []\n",
    "\n",
    "for i, x in enumerate(df_salary.salary):\n",
    "    if 'hour'in x:\n",
    "        hour += 1\n",
    "    elif 'day' in x:\n",
    "        day += 1\n",
    "    elif 'week' in x:\n",
    "        week += 1\n",
    "    elif 'month' in x:\n",
    "        month += 1\n",
    "    elif 'year' in x:\n",
    "        year += 1\n",
    "    else:\n",
    "        other+= 1\n",
    "        other_index.append(i)"
   ]
  },
  {
   "cell_type": "code",
   "execution_count": 494,
   "id": "59e77a42",
   "metadata": {
    "ExecuteTime": {
     "end_time": "2022-05-15T20:50:03.616376Z",
     "start_time": "2022-05-15T20:50:03.613922Z"
    }
   },
   "outputs": [],
   "source": [
    "def extract_time_frame(x):\n",
    "    if 'hour'in x:\n",
    "        return 'hour'\n",
    "    elif 'day' in x:\n",
    "        return 'day'\n",
    "    elif 'week' in x:\n",
    "        return 'week'\n",
    "    elif 'month' in x:\n",
    "        return 'month'\n",
    "    elif 'year' in x:\n",
    "        return 'year'"
   ]
  },
  {
   "cell_type": "code",
   "execution_count": 495,
   "id": "81bf6a2c",
   "metadata": {
    "ExecuteTime": {
     "end_time": "2022-05-15T20:50:03.746239Z",
     "start_time": "2022-05-15T20:50:03.742871Z"
    }
   },
   "outputs": [],
   "source": [
    "df_salary['time_frame'] = df_salary['salary'].apply(extract_time_frame)"
   ]
  },
  {
   "cell_type": "code",
   "execution_count": 496,
   "id": "12868fbb",
   "metadata": {
    "ExecuteTime": {
     "end_time": "2022-05-15T20:50:03.878831Z",
     "start_time": "2022-05-15T20:50:03.870762Z"
    }
   },
   "outputs": [
    {
     "data": {
      "text/html": [
       "<div>\n",
       "<style scoped>\n",
       "    .dataframe tbody tr th:only-of-type {\n",
       "        vertical-align: middle;\n",
       "    }\n",
       "\n",
       "    .dataframe tbody tr th {\n",
       "        vertical-align: top;\n",
       "    }\n",
       "\n",
       "    .dataframe thead th {\n",
       "        text-align: right;\n",
       "    }\n",
       "</style>\n",
       "<table border=\"1\" class=\"dataframe\">\n",
       "  <thead>\n",
       "    <tr style=\"text-align: right;\">\n",
       "      <th></th>\n",
       "      <th>job_title</th>\n",
       "      <th>company</th>\n",
       "      <th>location</th>\n",
       "      <th>salary</th>\n",
       "      <th>country</th>\n",
       "      <th>time_frame</th>\n",
       "    </tr>\n",
       "  </thead>\n",
       "  <tbody>\n",
       "    <tr>\n",
       "      <th>1977</th>\n",
       "      <td>Data Entry Clerk III</td>\n",
       "      <td>1199SEIU Benefit and Pension Funds</td>\n",
       "      <td>New York, NY</td>\n",
       "      <td>Estimated $32.9K - $41.7K a year</td>\n",
       "      <td>united states</td>\n",
       "      <td>year</td>\n",
       "    </tr>\n",
       "    <tr>\n",
       "      <th>1978</th>\n",
       "      <td>Recruitment Coordination Team Lead</td>\n",
       "      <td>Spotify</td>\n",
       "      <td>Remote in New York, NY+2 locations</td>\n",
       "      <td>Estimated $62K - $78.4K a year</td>\n",
       "      <td>united states</td>\n",
       "      <td>year</td>\n",
       "    </tr>\n",
       "    <tr>\n",
       "      <th>1979</th>\n",
       "      <td>Data Processing Helper</td>\n",
       "      <td>Tompkins County</td>\n",
       "      <td>Tompkins County, NY</td>\n",
       "      <td>Estimated $40.7K - $51.5K a year</td>\n",
       "      <td>united states</td>\n",
       "      <td>year</td>\n",
       "    </tr>\n",
       "    <tr>\n",
       "      <th>1980</th>\n",
       "      <td>CRM Data Analyst</td>\n",
       "      <td>Bard College</td>\n",
       "      <td>Annandale-on-Hudson, NY 12504</td>\n",
       "      <td>Estimated $58.9K - $74.5K a year</td>\n",
       "      <td>united states</td>\n",
       "      <td>year</td>\n",
       "    </tr>\n",
       "    <tr>\n",
       "      <th>1981</th>\n",
       "      <td>Data Analyst</td>\n",
       "      <td>GlossGenius</td>\n",
       "      <td>Remote in New York, NY+1 location</td>\n",
       "      <td>Estimated $78.6K - $99.6K a year</td>\n",
       "      <td>united states</td>\n",
       "      <td>year</td>\n",
       "    </tr>\n",
       "    <tr>\n",
       "      <th>...</th>\n",
       "      <td>...</td>\n",
       "      <td>...</td>\n",
       "      <td>...</td>\n",
       "      <td>...</td>\n",
       "      <td>...</td>\n",
       "      <td>...</td>\n",
       "    </tr>\n",
       "    <tr>\n",
       "      <th>3286</th>\n",
       "      <td>Senior Director of Data Science</td>\n",
       "      <td>DIRECTV</td>\n",
       "      <td>Remote in El Segundo, CA</td>\n",
       "      <td>$169,300 - $338,500 a year</td>\n",
       "      <td>united states</td>\n",
       "      <td>year</td>\n",
       "    </tr>\n",
       "    <tr>\n",
       "      <th>3287</th>\n",
       "      <td>Data Scientist Manager</td>\n",
       "      <td>Circle Medical</td>\n",
       "      <td>Remote</td>\n",
       "      <td>$110,000 - $135,000 a year</td>\n",
       "      <td>united states</td>\n",
       "      <td>year</td>\n",
       "    </tr>\n",
       "    <tr>\n",
       "      <th>3288</th>\n",
       "      <td>Director, Data Science</td>\n",
       "      <td>Charles Schwab</td>\n",
       "      <td>Hybrid remote in Chicago, IL</td>\n",
       "      <td>$139,200 - $278,300 a year</td>\n",
       "      <td>united states</td>\n",
       "      <td>year</td>\n",
       "    </tr>\n",
       "    <tr>\n",
       "      <th>3289</th>\n",
       "      <td>Business Analyst - Text and Voice Modeling &amp; A...</td>\n",
       "      <td>DISH</td>\n",
       "      <td>Roseland, NJ 07068</td>\n",
       "      <td>$66,010 a year</td>\n",
       "      <td>united states</td>\n",
       "      <td>year</td>\n",
       "    </tr>\n",
       "    <tr>\n",
       "      <th>3290</th>\n",
       "      <td>AFNORTH Business Intelligence Analyst</td>\n",
       "      <td>General Dynamics Information Technology</td>\n",
       "      <td>Peterson AFB, CO+2 locations</td>\n",
       "      <td>$67,683 - $113,048 a year</td>\n",
       "      <td>united states</td>\n",
       "      <td>year</td>\n",
       "    </tr>\n",
       "  </tbody>\n",
       "</table>\n",
       "<p>1314 rows × 6 columns</p>\n",
       "</div>"
      ],
      "text/plain": [
       "                                              job_title  \\\n",
       "1977                               Data Entry Clerk III   \n",
       "1978                 Recruitment Coordination Team Lead   \n",
       "1979                             Data Processing Helper   \n",
       "1980                                   CRM Data Analyst   \n",
       "1981                                       Data Analyst   \n",
       "...                                                 ...   \n",
       "3286                    Senior Director of Data Science   \n",
       "3287                             Data Scientist Manager   \n",
       "3288                             Director, Data Science   \n",
       "3289  Business Analyst - Text and Voice Modeling & A...   \n",
       "3290              AFNORTH Business Intelligence Analyst   \n",
       "\n",
       "                                      company  \\\n",
       "1977       1199SEIU Benefit and Pension Funds   \n",
       "1978                                  Spotify   \n",
       "1979                          Tompkins County   \n",
       "1980                             Bard College   \n",
       "1981                              GlossGenius   \n",
       "...                                       ...   \n",
       "3286                                  DIRECTV   \n",
       "3287                           Circle Medical   \n",
       "3288                           Charles Schwab   \n",
       "3289                                     DISH   \n",
       "3290  General Dynamics Information Technology   \n",
       "\n",
       "                                location                            salary  \\\n",
       "1977                        New York, NY  Estimated $32.9K - $41.7K a year   \n",
       "1978  Remote in New York, NY+2 locations    Estimated $62K - $78.4K a year   \n",
       "1979                 Tompkins County, NY  Estimated $40.7K - $51.5K a year   \n",
       "1980       Annandale-on-Hudson, NY 12504  Estimated $58.9K - $74.5K a year   \n",
       "1981   Remote in New York, NY+1 location  Estimated $78.6K - $99.6K a year   \n",
       "...                                  ...                               ...   \n",
       "3286            Remote in El Segundo, CA        $169,300 - $338,500 a year   \n",
       "3287                              Remote        $110,000 - $135,000 a year   \n",
       "3288        Hybrid remote in Chicago, IL        $139,200 - $278,300 a year   \n",
       "3289                  Roseland, NJ 07068                    $66,010 a year   \n",
       "3290        Peterson AFB, CO+2 locations         $67,683 - $113,048 a year   \n",
       "\n",
       "            country time_frame  \n",
       "1977  united states       year  \n",
       "1978  united states       year  \n",
       "1979  united states       year  \n",
       "1980  united states       year  \n",
       "1981  united states       year  \n",
       "...             ...        ...  \n",
       "3286  united states       year  \n",
       "3287  united states       year  \n",
       "3288  united states       year  \n",
       "3289  united states       year  \n",
       "3290  united states       year  \n",
       "\n",
       "[1314 rows x 6 columns]"
      ]
     },
     "execution_count": 496,
     "metadata": {},
     "output_type": "execute_result"
    }
   ],
   "source": [
    "df_salary[df_salary.country == 'united states']"
   ]
  },
  {
   "cell_type": "code",
   "execution_count": 497,
   "id": "5183b44f",
   "metadata": {
    "ExecuteTime": {
     "end_time": "2022-05-15T20:50:04.027368Z",
     "start_time": "2022-05-15T20:50:04.005904Z"
    }
   },
   "outputs": [
    {
     "name": "stderr",
     "output_type": "stream",
     "text": [
      "/var/folders/0g/2n4dpfnj6xg2x7twpn7nk6nh0000gn/T/ipykernel_82869/99940223.py:3: FutureWarning: The default value of regex will change from True to False in a future version. In addition, single character regular expressions will *not* be treated as literal strings when regex=True.\n",
      "  df_salary.salary = df_salary.salary.str.replace(item, '')\n"
     ]
    }
   ],
   "source": [
    "repl = [',', '£', '$', 'an hour','a day', 'a week', 'a month', 'a year', 'K', 'Estimated', 'Up to', 'From']\n",
    "for item in repl:\n",
    "    df_salary.salary = df_salary.salary.str.replace(item, '')"
   ]
  },
  {
   "cell_type": "code",
   "execution_count": 498,
   "id": "a4ec2bed",
   "metadata": {
    "ExecuteTime": {
     "end_time": "2022-05-15T20:50:04.165451Z",
     "start_time": "2022-05-15T20:50:04.158344Z"
    }
   },
   "outputs": [
    {
     "data": {
      "text/html": [
       "<div>\n",
       "<style scoped>\n",
       "    .dataframe tbody tr th:only-of-type {\n",
       "        vertical-align: middle;\n",
       "    }\n",
       "\n",
       "    .dataframe tbody tr th {\n",
       "        vertical-align: top;\n",
       "    }\n",
       "\n",
       "    .dataframe thead th {\n",
       "        text-align: right;\n",
       "    }\n",
       "</style>\n",
       "<table border=\"1\" class=\"dataframe\">\n",
       "  <thead>\n",
       "    <tr style=\"text-align: right;\">\n",
       "      <th></th>\n",
       "      <th>job_title</th>\n",
       "      <th>company</th>\n",
       "      <th>location</th>\n",
       "      <th>salary</th>\n",
       "      <th>country</th>\n",
       "      <th>time_frame</th>\n",
       "    </tr>\n",
       "  </thead>\n",
       "  <tbody>\n",
       "    <tr>\n",
       "      <th>1977</th>\n",
       "      <td>Data Entry Clerk III</td>\n",
       "      <td>1199SEIU Benefit and Pension Funds</td>\n",
       "      <td>New York, NY</td>\n",
       "      <td>32.9 - 41.7</td>\n",
       "      <td>united states</td>\n",
       "      <td>year</td>\n",
       "    </tr>\n",
       "    <tr>\n",
       "      <th>1978</th>\n",
       "      <td>Recruitment Coordination Team Lead</td>\n",
       "      <td>Spotify</td>\n",
       "      <td>Remote in New York, NY+2 locations</td>\n",
       "      <td>62 - 78.4</td>\n",
       "      <td>united states</td>\n",
       "      <td>year</td>\n",
       "    </tr>\n",
       "    <tr>\n",
       "      <th>1979</th>\n",
       "      <td>Data Processing Helper</td>\n",
       "      <td>Tompkins County</td>\n",
       "      <td>Tompkins County, NY</td>\n",
       "      <td>40.7 - 51.5</td>\n",
       "      <td>united states</td>\n",
       "      <td>year</td>\n",
       "    </tr>\n",
       "    <tr>\n",
       "      <th>1980</th>\n",
       "      <td>CRM Data Analyst</td>\n",
       "      <td>Bard College</td>\n",
       "      <td>Annandale-on-Hudson, NY 12504</td>\n",
       "      <td>58.9 - 74.5</td>\n",
       "      <td>united states</td>\n",
       "      <td>year</td>\n",
       "    </tr>\n",
       "    <tr>\n",
       "      <th>1981</th>\n",
       "      <td>Data Analyst</td>\n",
       "      <td>GlossGenius</td>\n",
       "      <td>Remote in New York, NY+1 location</td>\n",
       "      <td>78.6 - 99.6</td>\n",
       "      <td>united states</td>\n",
       "      <td>year</td>\n",
       "    </tr>\n",
       "    <tr>\n",
       "      <th>...</th>\n",
       "      <td>...</td>\n",
       "      <td>...</td>\n",
       "      <td>...</td>\n",
       "      <td>...</td>\n",
       "      <td>...</td>\n",
       "      <td>...</td>\n",
       "    </tr>\n",
       "    <tr>\n",
       "      <th>3286</th>\n",
       "      <td>Senior Director of Data Science</td>\n",
       "      <td>DIRECTV</td>\n",
       "      <td>Remote in El Segundo, CA</td>\n",
       "      <td>169300 - 338500</td>\n",
       "      <td>united states</td>\n",
       "      <td>year</td>\n",
       "    </tr>\n",
       "    <tr>\n",
       "      <th>3287</th>\n",
       "      <td>Data Scientist Manager</td>\n",
       "      <td>Circle Medical</td>\n",
       "      <td>Remote</td>\n",
       "      <td>110000 - 135000</td>\n",
       "      <td>united states</td>\n",
       "      <td>year</td>\n",
       "    </tr>\n",
       "    <tr>\n",
       "      <th>3288</th>\n",
       "      <td>Director, Data Science</td>\n",
       "      <td>Charles Schwab</td>\n",
       "      <td>Hybrid remote in Chicago, IL</td>\n",
       "      <td>139200 - 278300</td>\n",
       "      <td>united states</td>\n",
       "      <td>year</td>\n",
       "    </tr>\n",
       "    <tr>\n",
       "      <th>3289</th>\n",
       "      <td>Business Analyst - Text and Voice Modeling &amp; A...</td>\n",
       "      <td>DISH</td>\n",
       "      <td>Roseland, NJ 07068</td>\n",
       "      <td>66010</td>\n",
       "      <td>united states</td>\n",
       "      <td>year</td>\n",
       "    </tr>\n",
       "    <tr>\n",
       "      <th>3290</th>\n",
       "      <td>AFNORTH Business Intelligence Analyst</td>\n",
       "      <td>General Dynamics Information Technology</td>\n",
       "      <td>Peterson AFB, CO+2 locations</td>\n",
       "      <td>67683 - 113048</td>\n",
       "      <td>united states</td>\n",
       "      <td>year</td>\n",
       "    </tr>\n",
       "  </tbody>\n",
       "</table>\n",
       "<p>1314 rows × 6 columns</p>\n",
       "</div>"
      ],
      "text/plain": [
       "                                              job_title  \\\n",
       "1977                               Data Entry Clerk III   \n",
       "1978                 Recruitment Coordination Team Lead   \n",
       "1979                             Data Processing Helper   \n",
       "1980                                   CRM Data Analyst   \n",
       "1981                                       Data Analyst   \n",
       "...                                                 ...   \n",
       "3286                    Senior Director of Data Science   \n",
       "3287                             Data Scientist Manager   \n",
       "3288                             Director, Data Science   \n",
       "3289  Business Analyst - Text and Voice Modeling & A...   \n",
       "3290              AFNORTH Business Intelligence Analyst   \n",
       "\n",
       "                                      company  \\\n",
       "1977       1199SEIU Benefit and Pension Funds   \n",
       "1978                                  Spotify   \n",
       "1979                          Tompkins County   \n",
       "1980                             Bard College   \n",
       "1981                              GlossGenius   \n",
       "...                                       ...   \n",
       "3286                                  DIRECTV   \n",
       "3287                           Circle Medical   \n",
       "3288                           Charles Schwab   \n",
       "3289                                     DISH   \n",
       "3290  General Dynamics Information Technology   \n",
       "\n",
       "                                location            salary        country  \\\n",
       "1977                        New York, NY      32.9 - 41.7   united states   \n",
       "1978  Remote in New York, NY+2 locations        62 - 78.4   united states   \n",
       "1979                 Tompkins County, NY      40.7 - 51.5   united states   \n",
       "1980       Annandale-on-Hudson, NY 12504      58.9 - 74.5   united states   \n",
       "1981   Remote in New York, NY+1 location      78.6 - 99.6   united states   \n",
       "...                                  ...               ...            ...   \n",
       "3286            Remote in El Segundo, CA  169300 - 338500   united states   \n",
       "3287                              Remote  110000 - 135000   united states   \n",
       "3288        Hybrid remote in Chicago, IL  139200 - 278300   united states   \n",
       "3289                  Roseland, NJ 07068            66010   united states   \n",
       "3290        Peterson AFB, CO+2 locations   67683 - 113048   united states   \n",
       "\n",
       "     time_frame  \n",
       "1977       year  \n",
       "1978       year  \n",
       "1979       year  \n",
       "1980       year  \n",
       "1981       year  \n",
       "...         ...  \n",
       "3286       year  \n",
       "3287       year  \n",
       "3288       year  \n",
       "3289       year  \n",
       "3290       year  \n",
       "\n",
       "[1314 rows x 6 columns]"
      ]
     },
     "execution_count": 498,
     "metadata": {},
     "output_type": "execute_result"
    }
   ],
   "source": [
    "df_salary[df_salary.country == 'united states']"
   ]
  },
  {
   "cell_type": "code",
   "execution_count": 499,
   "id": "646c2903",
   "metadata": {
    "ExecuteTime": {
     "end_time": "2022-05-15T20:50:04.287414Z",
     "start_time": "2022-05-15T20:50:04.285137Z"
    }
   },
   "outputs": [],
   "source": [
    "def averages_int(x):\n",
    "    if '-' in x:\n",
    "        a,b = x.split('-')\n",
    "        return int((float(a)+float(b))/2)\n",
    "    else:\n",
    "        return int(float(x))"
   ]
  },
  {
   "cell_type": "code",
   "execution_count": 500,
   "id": "802057fc",
   "metadata": {
    "ExecuteTime": {
     "end_time": "2022-05-15T20:50:04.414124Z",
     "start_time": "2022-05-15T20:50:04.409298Z"
    }
   },
   "outputs": [],
   "source": [
    "df_salary.salary = df_salary.salary.apply(averages_int)"
   ]
  },
  {
   "cell_type": "code",
   "execution_count": 501,
   "id": "b06cfa38",
   "metadata": {
    "ExecuteTime": {
     "end_time": "2022-05-15T20:50:04.546584Z",
     "start_time": "2022-05-15T20:50:04.539544Z"
    }
   },
   "outputs": [
    {
     "data": {
      "text/html": [
       "<div>\n",
       "<style scoped>\n",
       "    .dataframe tbody tr th:only-of-type {\n",
       "        vertical-align: middle;\n",
       "    }\n",
       "\n",
       "    .dataframe tbody tr th {\n",
       "        vertical-align: top;\n",
       "    }\n",
       "\n",
       "    .dataframe thead th {\n",
       "        text-align: right;\n",
       "    }\n",
       "</style>\n",
       "<table border=\"1\" class=\"dataframe\">\n",
       "  <thead>\n",
       "    <tr style=\"text-align: right;\">\n",
       "      <th></th>\n",
       "      <th>job_title</th>\n",
       "      <th>company</th>\n",
       "      <th>location</th>\n",
       "      <th>salary</th>\n",
       "      <th>country</th>\n",
       "      <th>time_frame</th>\n",
       "    </tr>\n",
       "  </thead>\n",
       "  <tbody>\n",
       "    <tr>\n",
       "      <th>0</th>\n",
       "      <td>Marketing Data analyst</td>\n",
       "      <td>HAYS</td>\n",
       "      <td>Melbourne VIC</td>\n",
       "      <td>80000</td>\n",
       "      <td>australia</td>\n",
       "      <td>year</td>\n",
       "    </tr>\n",
       "    <tr>\n",
       "      <th>1</th>\n",
       "      <td>Supply Chain Analyst</td>\n",
       "      <td>Michael Page</td>\n",
       "      <td>Melbourne VIC</td>\n",
       "      <td>85000</td>\n",
       "      <td>australia</td>\n",
       "      <td>year</td>\n",
       "    </tr>\n",
       "    <tr>\n",
       "      <th>2</th>\n",
       "      <td>Data Architect - Financial Services - Data &amp; A...</td>\n",
       "      <td>EY</td>\n",
       "      <td>Melbourne VIC 3000</td>\n",
       "      <td>90000</td>\n",
       "      <td>australia</td>\n",
       "      <td>year</td>\n",
       "    </tr>\n",
       "    <tr>\n",
       "      <th>3</th>\n",
       "      <td>Senior Data Business Analyst</td>\n",
       "      <td>Talent International</td>\n",
       "      <td>Melbourne VIC</td>\n",
       "      <td>1050</td>\n",
       "      <td>australia</td>\n",
       "      <td>day</td>\n",
       "    </tr>\n",
       "    <tr>\n",
       "      <th>4</th>\n",
       "      <td>Senior Data Warehouse Analyst - Education</td>\n",
       "      <td>Charterhouse</td>\n",
       "      <td>Docklands VIC</td>\n",
       "      <td>116547</td>\n",
       "      <td>australia</td>\n",
       "      <td>year</td>\n",
       "    </tr>\n",
       "    <tr>\n",
       "      <th>...</th>\n",
       "      <td>...</td>\n",
       "      <td>...</td>\n",
       "      <td>...</td>\n",
       "      <td>...</td>\n",
       "      <td>...</td>\n",
       "      <td>...</td>\n",
       "    </tr>\n",
       "    <tr>\n",
       "      <th>3286</th>\n",
       "      <td>Senior Director of Data Science</td>\n",
       "      <td>DIRECTV</td>\n",
       "      <td>Remote in El Segundo, CA</td>\n",
       "      <td>253900</td>\n",
       "      <td>united states</td>\n",
       "      <td>year</td>\n",
       "    </tr>\n",
       "    <tr>\n",
       "      <th>3287</th>\n",
       "      <td>Data Scientist Manager</td>\n",
       "      <td>Circle Medical</td>\n",
       "      <td>Remote</td>\n",
       "      <td>122500</td>\n",
       "      <td>united states</td>\n",
       "      <td>year</td>\n",
       "    </tr>\n",
       "    <tr>\n",
       "      <th>3288</th>\n",
       "      <td>Director, Data Science</td>\n",
       "      <td>Charles Schwab</td>\n",
       "      <td>Hybrid remote in Chicago, IL</td>\n",
       "      <td>208750</td>\n",
       "      <td>united states</td>\n",
       "      <td>year</td>\n",
       "    </tr>\n",
       "    <tr>\n",
       "      <th>3289</th>\n",
       "      <td>Business Analyst - Text and Voice Modeling &amp; A...</td>\n",
       "      <td>DISH</td>\n",
       "      <td>Roseland, NJ 07068</td>\n",
       "      <td>66010</td>\n",
       "      <td>united states</td>\n",
       "      <td>year</td>\n",
       "    </tr>\n",
       "    <tr>\n",
       "      <th>3290</th>\n",
       "      <td>AFNORTH Business Intelligence Analyst</td>\n",
       "      <td>General Dynamics Information Technology</td>\n",
       "      <td>Peterson AFB, CO+2 locations</td>\n",
       "      <td>90365</td>\n",
       "      <td>united states</td>\n",
       "      <td>year</td>\n",
       "    </tr>\n",
       "  </tbody>\n",
       "</table>\n",
       "<p>3291 rows × 6 columns</p>\n",
       "</div>"
      ],
      "text/plain": [
       "                                              job_title  \\\n",
       "0                                Marketing Data analyst   \n",
       "1                                  Supply Chain Analyst   \n",
       "2     Data Architect - Financial Services - Data & A...   \n",
       "3                          Senior Data Business Analyst   \n",
       "4             Senior Data Warehouse Analyst - Education   \n",
       "...                                                 ...   \n",
       "3286                    Senior Director of Data Science   \n",
       "3287                             Data Scientist Manager   \n",
       "3288                             Director, Data Science   \n",
       "3289  Business Analyst - Text and Voice Modeling & A...   \n",
       "3290              AFNORTH Business Intelligence Analyst   \n",
       "\n",
       "                                      company                      location  \\\n",
       "0                                        HAYS                 Melbourne VIC   \n",
       "1                                Michael Page                 Melbourne VIC   \n",
       "2                                          EY            Melbourne VIC 3000   \n",
       "3                        Talent International                 Melbourne VIC   \n",
       "4                                Charterhouse                 Docklands VIC   \n",
       "...                                       ...                           ...   \n",
       "3286                                  DIRECTV      Remote in El Segundo, CA   \n",
       "3287                           Circle Medical                        Remote   \n",
       "3288                           Charles Schwab  Hybrid remote in Chicago, IL   \n",
       "3289                                     DISH            Roseland, NJ 07068   \n",
       "3290  General Dynamics Information Technology  Peterson AFB, CO+2 locations   \n",
       "\n",
       "      salary        country time_frame  \n",
       "0      80000      australia       year  \n",
       "1      85000      australia       year  \n",
       "2      90000      australia       year  \n",
       "3       1050      australia        day  \n",
       "4     116547      australia       year  \n",
       "...      ...            ...        ...  \n",
       "3286  253900  united states       year  \n",
       "3287  122500  united states       year  \n",
       "3288  208750  united states       year  \n",
       "3289   66010  united states       year  \n",
       "3290   90365  united states       year  \n",
       "\n",
       "[3291 rows x 6 columns]"
      ]
     },
     "execution_count": 501,
     "metadata": {},
     "output_type": "execute_result"
    }
   ],
   "source": [
    "df_salary"
   ]
  },
  {
   "cell_type": "markdown",
   "id": "87c48d6d",
   "metadata": {},
   "source": [
    "-----"
   ]
  },
  {
   "cell_type": "code",
   "execution_count": 502,
   "id": "f0fe9f82",
   "metadata": {
    "ExecuteTime": {
     "end_time": "2022-05-15T20:50:05.836630Z",
     "start_time": "2022-05-15T20:50:04.689387Z"
    }
   },
   "outputs": [],
   "source": [
    "from forex_python.converter import CurrencyRates\n",
    "\n",
    "\n",
    "# Obtaining the latest currency exchanges\n",
    "c = CurrencyRates()\n",
    "usd_gbp = round(c.get_rate('USD', 'GBP'),3)\n",
    "cad_gbp = round(c.get_rate('CAD', 'GBP'),3)\n",
    "aud_gbp = round(c.get_rate('AUD', 'GBP'),3)"
   ]
  },
  {
   "cell_type": "code",
   "execution_count": 503,
   "id": "b15eda07",
   "metadata": {
    "ExecuteTime": {
     "end_time": "2022-05-15T20:50:05.996683Z",
     "start_time": "2022-05-15T20:50:05.992424Z"
    }
   },
   "outputs": [],
   "source": [
    "us_index = df_salary[df_salary['country'] == 'united states'].index\n",
    "aus_index = df_salary[df_salary['country'] == 'australia'].index\n",
    "cad_index = df_salary[df_salary['country'] == 'Canada'].index"
   ]
  },
  {
   "cell_type": "markdown",
   "id": "1a46fc23",
   "metadata": {},
   "source": [
    "## Currency change"
   ]
  },
  {
   "cell_type": "code",
   "execution_count": 504,
   "id": "30158b6f",
   "metadata": {
    "ExecuteTime": {
     "end_time": "2022-05-15T20:50:06.126744Z",
     "start_time": "2022-05-15T20:50:06.121709Z"
    }
   },
   "outputs": [
    {
     "name": "stderr",
     "output_type": "stream",
     "text": [
      "/Users/ariklevy/opt/anaconda3/lib/python3.9/site-packages/pandas/core/indexing.py:1732: SettingWithCopyWarning: \n",
      "A value is trying to be set on a copy of a slice from a DataFrame\n",
      "\n",
      "See the caveats in the documentation: https://pandas.pydata.org/pandas-docs/stable/user_guide/indexing.html#returning-a-view-versus-a-copy\n",
      "  self._setitem_single_block(indexer, value, name)\n"
     ]
    }
   ],
   "source": [
    "df_salary.salary.loc[us_index] = df_salary.salary*usd_gbp\n",
    "df_salary.salary.loc[aus_index] = df_salary.salary*aud_gbp\n",
    "df_salary.salary.loc[cad_index] = df_salary.salary*cad_gbp"
   ]
  },
  {
   "cell_type": "code",
   "execution_count": 505,
   "id": "f6698443",
   "metadata": {
    "ExecuteTime": {
     "end_time": "2022-05-15T20:50:06.263096Z",
     "start_time": "2022-05-15T20:50:06.255479Z"
    }
   },
   "outputs": [
    {
     "data": {
      "text/html": [
       "<div>\n",
       "<style scoped>\n",
       "    .dataframe tbody tr th:only-of-type {\n",
       "        vertical-align: middle;\n",
       "    }\n",
       "\n",
       "    .dataframe tbody tr th {\n",
       "        vertical-align: top;\n",
       "    }\n",
       "\n",
       "    .dataframe thead th {\n",
       "        text-align: right;\n",
       "    }\n",
       "</style>\n",
       "<table border=\"1\" class=\"dataframe\">\n",
       "  <thead>\n",
       "    <tr style=\"text-align: right;\">\n",
       "      <th></th>\n",
       "      <th>job_title</th>\n",
       "      <th>company</th>\n",
       "      <th>location</th>\n",
       "      <th>salary</th>\n",
       "      <th>country</th>\n",
       "      <th>time_frame</th>\n",
       "    </tr>\n",
       "  </thead>\n",
       "  <tbody>\n",
       "    <tr>\n",
       "      <th>0</th>\n",
       "      <td>Marketing Data analyst</td>\n",
       "      <td>HAYS</td>\n",
       "      <td>Melbourne VIC</td>\n",
       "      <td>45200.000</td>\n",
       "      <td>australia</td>\n",
       "      <td>year</td>\n",
       "    </tr>\n",
       "    <tr>\n",
       "      <th>1</th>\n",
       "      <td>Supply Chain Analyst</td>\n",
       "      <td>Michael Page</td>\n",
       "      <td>Melbourne VIC</td>\n",
       "      <td>48025.000</td>\n",
       "      <td>australia</td>\n",
       "      <td>year</td>\n",
       "    </tr>\n",
       "    <tr>\n",
       "      <th>2</th>\n",
       "      <td>Data Architect - Financial Services - Data &amp; A...</td>\n",
       "      <td>EY</td>\n",
       "      <td>Melbourne VIC 3000</td>\n",
       "      <td>50850.000</td>\n",
       "      <td>australia</td>\n",
       "      <td>year</td>\n",
       "    </tr>\n",
       "    <tr>\n",
       "      <th>3</th>\n",
       "      <td>Senior Data Business Analyst</td>\n",
       "      <td>Talent International</td>\n",
       "      <td>Melbourne VIC</td>\n",
       "      <td>593.250</td>\n",
       "      <td>australia</td>\n",
       "      <td>day</td>\n",
       "    </tr>\n",
       "    <tr>\n",
       "      <th>4</th>\n",
       "      <td>Senior Data Warehouse Analyst - Education</td>\n",
       "      <td>Charterhouse</td>\n",
       "      <td>Docklands VIC</td>\n",
       "      <td>65849.055</td>\n",
       "      <td>australia</td>\n",
       "      <td>year</td>\n",
       "    </tr>\n",
       "    <tr>\n",
       "      <th>...</th>\n",
       "      <td>...</td>\n",
       "      <td>...</td>\n",
       "      <td>...</td>\n",
       "      <td>...</td>\n",
       "      <td>...</td>\n",
       "      <td>...</td>\n",
       "    </tr>\n",
       "    <tr>\n",
       "      <th>3286</th>\n",
       "      <td>Senior Director of Data Science</td>\n",
       "      <td>DIRECTV</td>\n",
       "      <td>Remote in El Segundo, CA</td>\n",
       "      <td>208198.000</td>\n",
       "      <td>united states</td>\n",
       "      <td>year</td>\n",
       "    </tr>\n",
       "    <tr>\n",
       "      <th>3287</th>\n",
       "      <td>Data Scientist Manager</td>\n",
       "      <td>Circle Medical</td>\n",
       "      <td>Remote</td>\n",
       "      <td>100450.000</td>\n",
       "      <td>united states</td>\n",
       "      <td>year</td>\n",
       "    </tr>\n",
       "    <tr>\n",
       "      <th>3288</th>\n",
       "      <td>Director, Data Science</td>\n",
       "      <td>Charles Schwab</td>\n",
       "      <td>Hybrid remote in Chicago, IL</td>\n",
       "      <td>171175.000</td>\n",
       "      <td>united states</td>\n",
       "      <td>year</td>\n",
       "    </tr>\n",
       "    <tr>\n",
       "      <th>3289</th>\n",
       "      <td>Business Analyst - Text and Voice Modeling &amp; A...</td>\n",
       "      <td>DISH</td>\n",
       "      <td>Roseland, NJ 07068</td>\n",
       "      <td>54128.200</td>\n",
       "      <td>united states</td>\n",
       "      <td>year</td>\n",
       "    </tr>\n",
       "    <tr>\n",
       "      <th>3290</th>\n",
       "      <td>AFNORTH Business Intelligence Analyst</td>\n",
       "      <td>General Dynamics Information Technology</td>\n",
       "      <td>Peterson AFB, CO+2 locations</td>\n",
       "      <td>74099.300</td>\n",
       "      <td>united states</td>\n",
       "      <td>year</td>\n",
       "    </tr>\n",
       "  </tbody>\n",
       "</table>\n",
       "<p>3291 rows × 6 columns</p>\n",
       "</div>"
      ],
      "text/plain": [
       "                                              job_title  \\\n",
       "0                                Marketing Data analyst   \n",
       "1                                  Supply Chain Analyst   \n",
       "2     Data Architect - Financial Services - Data & A...   \n",
       "3                          Senior Data Business Analyst   \n",
       "4             Senior Data Warehouse Analyst - Education   \n",
       "...                                                 ...   \n",
       "3286                    Senior Director of Data Science   \n",
       "3287                             Data Scientist Manager   \n",
       "3288                             Director, Data Science   \n",
       "3289  Business Analyst - Text and Voice Modeling & A...   \n",
       "3290              AFNORTH Business Intelligence Analyst   \n",
       "\n",
       "                                      company                      location  \\\n",
       "0                                        HAYS                 Melbourne VIC   \n",
       "1                                Michael Page                 Melbourne VIC   \n",
       "2                                          EY            Melbourne VIC 3000   \n",
       "3                        Talent International                 Melbourne VIC   \n",
       "4                                Charterhouse                 Docklands VIC   \n",
       "...                                       ...                           ...   \n",
       "3286                                  DIRECTV      Remote in El Segundo, CA   \n",
       "3287                           Circle Medical                        Remote   \n",
       "3288                           Charles Schwab  Hybrid remote in Chicago, IL   \n",
       "3289                                     DISH            Roseland, NJ 07068   \n",
       "3290  General Dynamics Information Technology  Peterson AFB, CO+2 locations   \n",
       "\n",
       "          salary        country time_frame  \n",
       "0      45200.000      australia       year  \n",
       "1      48025.000      australia       year  \n",
       "2      50850.000      australia       year  \n",
       "3        593.250      australia        day  \n",
       "4      65849.055      australia       year  \n",
       "...          ...            ...        ...  \n",
       "3286  208198.000  united states       year  \n",
       "3287  100450.000  united states       year  \n",
       "3288  171175.000  united states       year  \n",
       "3289   54128.200  united states       year  \n",
       "3290   74099.300  united states       year  \n",
       "\n",
       "[3291 rows x 6 columns]"
      ]
     },
     "execution_count": 505,
     "metadata": {},
     "output_type": "execute_result"
    }
   ],
   "source": [
    "df_salary"
   ]
  },
  {
   "cell_type": "code",
   "execution_count": 506,
   "id": "85b4b2e6",
   "metadata": {
    "ExecuteTime": {
     "end_time": "2022-05-15T20:50:06.408028Z",
     "start_time": "2022-05-15T20:50:06.401741Z"
    }
   },
   "outputs": [],
   "source": [
    "df_salary.salary.loc[df_salary[df_salary['time_frame'] == 'hour'].index] = df_salary.salary*40*52\n",
    "df_salary.salary.loc[df_salary[df_salary['time_frame'] == 'day'].index] = df_salary.salary*5*52\n",
    "df_salary.salary.loc[df_salary[df_salary['time_frame'] == 'week'].index] = df_salary.salary*52\n",
    "df_salary.salary.loc[df_salary[df_salary['time_frame'] == 'month'].index] = df_salary.salary*12"
   ]
  },
  {
   "cell_type": "code",
   "execution_count": 507,
   "id": "8a8bead1",
   "metadata": {
    "ExecuteTime": {
     "end_time": "2022-05-15T20:50:06.548376Z",
     "start_time": "2022-05-15T20:50:06.545620Z"
    }
   },
   "outputs": [],
   "source": [
    "df_salary.drop('time_frame', axis=1, inplace=True)"
   ]
  },
  {
   "cell_type": "markdown",
   "id": "a318b47d",
   "metadata": {},
   "source": [
    "Fix salary columns where there was a K representing 1000."
   ]
  },
  {
   "cell_type": "code",
   "execution_count": 508,
   "id": "1eb307ba",
   "metadata": {
    "ExecuteTime": {
     "end_time": "2022-05-15T20:50:06.697650Z",
     "start_time": "2022-05-15T20:50:06.695600Z"
    }
   },
   "outputs": [],
   "source": [
    "def k_to_thousand(x):\n",
    "    if x < 1000:\n",
    "        return x*1000\n",
    "    else:\n",
    "        return x"
   ]
  },
  {
   "cell_type": "code",
   "execution_count": 509,
   "id": "e92beeac",
   "metadata": {
    "ExecuteTime": {
     "end_time": "2022-05-15T20:50:06.892245Z",
     "start_time": "2022-05-15T20:50:06.889203Z"
    }
   },
   "outputs": [],
   "source": [
    "df_salary.salary = df_salary.salary.apply(k_to_thousand)"
   ]
  },
  {
   "cell_type": "markdown",
   "id": "2615263e",
   "metadata": {},
   "source": [
    "----------"
   ]
  },
  {
   "cell_type": "markdown",
   "id": "81fb1c01",
   "metadata": {},
   "source": [
    "## Fixing location feature"
   ]
  },
  {
   "cell_type": "code",
   "execution_count": 510,
   "id": "26ee62b5",
   "metadata": {
    "ExecuteTime": {
     "end_time": "2022-05-15T20:50:07.713926Z",
     "start_time": "2022-05-15T20:50:07.702777Z"
    }
   },
   "outputs": [],
   "source": [
    "def remote_hybrid_none(x):\n",
    "    if re.match(r'(h|H)ybrid', x) and re.match(r'(r|R)emote', x):\n",
    "        return 'Hybrid'\n",
    "    \n",
    "    elif re.match(r'(h|H)ybrid', x):\n",
    "        return 'Hybrid'\n",
    "\n",
    "    elif re.match(r'(r|R)emote', x):\n",
    "        return 'Remote'\n",
    "    \n",
    "    else:\n",
    "        return 'Office'"
   ]
  },
  {
   "cell_type": "code",
   "execution_count": 511,
   "id": "eae05575",
   "metadata": {
    "ExecuteTime": {
     "end_time": "2022-05-15T20:50:08.055052Z",
     "start_time": "2022-05-15T20:50:08.044235Z"
    }
   },
   "outputs": [],
   "source": [
    "df_salary['remote'] = df_salary.location.apply(remote_hybrid_none)"
   ]
  },
  {
   "cell_type": "markdown",
   "id": "d2e31baa",
   "metadata": {},
   "source": [
    "-----"
   ]
  },
  {
   "cell_type": "markdown",
   "id": "90f600ac",
   "metadata": {},
   "source": [
    "### Remove all numbers from column"
   ]
  },
  {
   "cell_type": "code",
   "execution_count": 512,
   "id": "5008e30e",
   "metadata": {
    "ExecuteTime": {
     "end_time": "2022-05-15T20:50:09.555639Z",
     "start_time": "2022-05-15T20:50:09.546177Z"
    }
   },
   "outputs": [],
   "source": [
    "def remove_numbers(x):\n",
    "    return re.sub(r'[0-9]', '', x)"
   ]
  },
  {
   "cell_type": "code",
   "execution_count": 513,
   "id": "183d9b5d",
   "metadata": {
    "ExecuteTime": {
     "end_time": "2022-05-15T20:50:09.855283Z",
     "start_time": "2022-05-15T20:50:09.848455Z"
    }
   },
   "outputs": [],
   "source": [
    "df_salary.location = df_salary.location.apply(remove_numbers)"
   ]
  },
  {
   "cell_type": "code",
   "execution_count": 514,
   "id": "614823bd",
   "metadata": {
    "ExecuteTime": {
     "end_time": "2022-05-15T20:50:10.330521Z",
     "start_time": "2022-05-15T20:50:10.316829Z"
    }
   },
   "outputs": [
    {
     "data": {
      "text/plain": [
       "0                      Melbourne VIC\n",
       "1                      Melbourne VIC\n",
       "2                     Melbourne VIC \n",
       "3                      Melbourne VIC\n",
       "4                      Docklands VIC\n",
       "                    ...             \n",
       "3286        Remote in El Segundo, CA\n",
       "3287                          Remote\n",
       "3288    Hybrid remote in Chicago, IL\n",
       "3289                   Roseland, NJ \n",
       "3290     Peterson AFB, CO+ locations\n",
       "Name: location, Length: 3291, dtype: object"
      ]
     },
     "execution_count": 514,
     "metadata": {},
     "output_type": "execute_result"
    }
   ],
   "source": [
    "df_salary.location"
   ]
  },
  {
   "cell_type": "markdown",
   "id": "47bcb9e7",
   "metadata": {},
   "source": [
    "### Remove all spaces before and after"
   ]
  },
  {
   "cell_type": "code",
   "execution_count": 515,
   "id": "28e6c6b9",
   "metadata": {
    "ExecuteTime": {
     "end_time": "2022-05-15T20:50:12.767720Z",
     "start_time": "2022-05-15T20:50:12.717463Z"
    }
   },
   "outputs": [
    {
     "name": "stderr",
     "output_type": "stream",
     "text": [
      "/var/folders/0g/2n4dpfnj6xg2x7twpn7nk6nh0000gn/T/ipykernel_82869/1994116282.py:5: FutureWarning: The default value of regex will change from True to False in a future version.\n",
      "  df_salary.location = df_salary.location.str.replace(item, '')\n",
      "/var/folders/0g/2n4dpfnj6xg2x7twpn7nk6nh0000gn/T/ipykernel_82869/1994116282.py:5: FutureWarning: The default value of regex will change from True to False in a future version. In addition, single character regular expressions will *not* be treated as literal strings when regex=True.\n",
      "  df_salary.location = df_salary.location.str.replace(item, '')\n"
     ]
    }
   ],
   "source": [
    "repl = [r'(r|R)emote', r'(h|H)ybrid', '+', 'in', r'locations?', '(The Loop area)', '(Loop area)',\n",
    "        '(Midtown area)', '(Fancial District/South Beach area)', 'Temporarily', 'Region', r'[^a-zA-Z ]+']\n",
    "\n",
    "for item in repl:\n",
    "    df_salary.location = df_salary.location.str.replace(item, '')"
   ]
  },
  {
   "cell_type": "code",
   "execution_count": 516,
   "id": "1e736ccd",
   "metadata": {
    "ExecuteTime": {
     "end_time": "2022-05-15T20:50:13.516976Z",
     "start_time": "2022-05-15T20:50:13.501388Z"
    }
   },
   "outputs": [],
   "source": [
    "df_salary.location = df_salary.location.str.rstrip().str.lstrip()"
   ]
  },
  {
   "cell_type": "markdown",
   "id": "8addc3ba",
   "metadata": {},
   "source": [
    "## Cleaning location more"
   ]
  },
  {
   "cell_type": "code",
   "execution_count": 525,
   "id": "f96976f8",
   "metadata": {
    "ExecuteTime": {
     "end_time": "2022-05-15T20:52:32.081187Z",
     "start_time": "2022-05-15T20:52:32.054055Z"
    }
   },
   "outputs": [
    {
     "name": "stderr",
     "output_type": "stream",
     "text": [
      "/var/folders/0g/2n4dpfnj6xg2x7twpn7nk6nh0000gn/T/ipykernel_82869/1256962242.py:1: FutureWarning: The default value of regex will change from True to False in a future version.\n",
      "  df_salary.location = df_salary.location.str.replace(r'( \\w{3}$)', '')\n",
      "/var/folders/0g/2n4dpfnj6xg2x7twpn7nk6nh0000gn/T/ipykernel_82869/1256962242.py:2: FutureWarning: The default value of regex will change from True to False in a future version.\n",
      "  df_salary.location = df_salary.location.str.replace(r'( \\w{3} )', '')\n",
      "/var/folders/0g/2n4dpfnj6xg2x7twpn7nk6nh0000gn/T/ipykernel_82869/1256962242.py:3: FutureWarning: The default value of regex will change from True to False in a future version.\n",
      "  df_salary.location = df_salary.location.str.replace(r'( \\w{2}$)', '')\n",
      "/var/folders/0g/2n4dpfnj6xg2x7twpn7nk6nh0000gn/T/ipykernel_82869/1256962242.py:4: FutureWarning: The default value of regex will change from True to False in a future version.\n",
      "  df_salary.location = df_salary.location.str.replace(r'( \\w{1}$)', '')\n",
      "/var/folders/0g/2n4dpfnj6xg2x7twpn7nk6nh0000gn/T/ipykernel_82869/1256962242.py:5: FutureWarning: The default value of regex will change from True to False in a future version.\n",
      "  df_salary.location = df_salary.location.str.replace(r'( \\w{1} )', '')\n"
     ]
    }
   ],
   "source": [
    "df_salary.location = df_salary.location.str.replace(r'( \\w{3}$)', '')\n",
    "df_salary.location = df_salary.location.str.replace(r'( \\w{3} )', '')\n",
    "df_salary.location = df_salary.location.str.replace(r'( \\w{2}$)', '')\n",
    "df_salary.location = df_salary.location.str.replace(r'( \\w{1}$)', '')\n",
    "df_salary.location = df_salary.location.str.replace(r'( \\w{1} )', '')"
   ]
  },
  {
   "cell_type": "code",
   "execution_count": 527,
   "id": "00e417ad",
   "metadata": {
    "ExecuteTime": {
     "end_time": "2022-05-15T20:53:59.651744Z",
     "start_time": "2022-05-15T20:53:59.640488Z"
    }
   },
   "outputs": [],
   "source": [
    "def add_remote(x):\n",
    "    if x == '':\n",
    "        return 'Remote'\n",
    "    else:\n",
    "        return x\n",
    "df_salary.location = df_salary.location.apply(add_remote)"
   ]
  },
  {
   "cell_type": "code",
   "execution_count": 537,
   "id": "887709cd",
   "metadata": {
    "ExecuteTime": {
     "end_time": "2022-05-16T05:58:02.025321Z",
     "start_time": "2022-05-16T05:58:02.009471Z"
    }
   },
   "outputs": [
    {
     "data": {
      "text/plain": [
       "London                         317\n",
       "Bristol                        152\n",
       "Manchester                     142\n",
       "Leeds                          136\n",
       "San Francisco                  110\n",
       "                              ... \n",
       "Pasadena CA  Pasadena area       1\n",
       "Slough                           1\n",
       "Basildon                         1\n",
       "Sacramento CA  Airport area      1\n",
       "Peterson                         1\n",
       "Name: location, Length: 668, dtype: int64"
      ]
     },
     "execution_count": 537,
     "metadata": {},
     "output_type": "execute_result"
    }
   ],
   "source": [
    "df_salary.location.value_counts()"
   ]
  },
  {
   "cell_type": "markdown",
   "id": "562bb8f6",
   "metadata": {},
   "source": [
    "### Fixing remote in canada"
   ]
  },
  {
   "cell_type": "code",
   "execution_count": 591,
   "id": "01fcbeb3",
   "metadata": {
    "ExecuteTime": {
     "end_time": "2022-05-16T06:42:07.878068Z",
     "start_time": "2022-05-16T06:42:07.769244Z"
    }
   },
   "outputs": [
    {
     "name": "stderr",
     "output_type": "stream",
     "text": [
      "/Users/ariklevy/opt/anaconda3/lib/python3.9/site-packages/pandas/core/indexing.py:1732: SettingWithCopyWarning: \n",
      "A value is trying to be set on a copy of a slice from a DataFrame\n",
      "\n",
      "See the caveats in the documentation: https://pandas.pydata.org/pandas-docs/stable/user_guide/indexing.html#returning-a-view-versus-a-copy\n",
      "  self._setitem_single_block(indexer, value, name)\n"
     ]
    }
   ],
   "source": [
    "for row in df_salary.index:\n",
    "    if df_salary.location.loc[row] == 'Canada':\n",
    "        df_salary.location.loc[row] = 'Remote'\n",
    "    \n",
    "    if df_salary.location.loc[row] == 'Remote':\n",
    "        df_salary.remote.loc[row] = 'Remote'"
   ]
  },
  {
   "cell_type": "markdown",
   "id": "5c537af6",
   "metadata": {},
   "source": [
    "-------"
   ]
  },
  {
   "cell_type": "markdown",
   "id": "5ca580fc",
   "metadata": {},
   "source": [
    "## Split salary into quartiles"
   ]
  },
  {
   "cell_type": "code",
   "execution_count": 539,
   "id": "f0be30c2",
   "metadata": {
    "ExecuteTime": {
     "end_time": "2022-05-16T06:06:33.890826Z",
     "start_time": "2022-05-16T06:06:31.008762Z"
    }
   },
   "outputs": [],
   "source": [
    "import seaborn as sns\n",
    "import matplotlib.pyplot as plt"
   ]
  },
  {
   "cell_type": "code",
   "execution_count": 542,
   "id": "18144e0f",
   "metadata": {
    "ExecuteTime": {
     "end_time": "2022-05-16T06:07:10.493459Z",
     "start_time": "2022-05-16T06:07:10.173680Z"
    }
   },
   "outputs": [
    {
     "data": {
      "text/plain": [
       "<AxesSubplot:xlabel='salary', ylabel='Count'>"
      ]
     },
     "execution_count": 542,
     "metadata": {},
     "output_type": "execute_result"
    },
    {
     "data": {
      "image/png": "[encoded data removed]",
      "text/plain": [
       "<Figure size 432x288 with 1 Axes>"
      ]
     },
     "metadata": {
      "needs_background": "light"
     },
     "output_type": "display_data"
    }
   ],
   "source": [
    "sns.histplot(df_salary.salary, log_scale=True)"
   ]
  },
  {
   "cell_type": "code",
   "execution_count": 553,
   "id": "f565f57c",
   "metadata": {
    "ExecuteTime": {
     "end_time": "2022-05-16T06:13:12.644040Z",
     "start_time": "2022-05-16T06:13:12.632471Z"
    }
   },
   "outputs": [],
   "source": [
    "df_salary.salary =  np.log(df_salary.salary)"
   ]
  },
  {
   "cell_type": "code",
   "execution_count": 557,
   "id": "f1c3ef74",
   "metadata": {
    "ExecuteTime": {
     "end_time": "2022-05-16T06:16:00.199582Z",
     "start_time": "2022-05-16T06:16:00.186205Z"
    }
   },
   "outputs": [],
   "source": [
    "def salary_categories(x):\n",
    "   \n",
    "    min_ = df_salary.salary.min()\n",
    "    low_q = df_salary.salary.quantile(0.25)\n",
    "    median = df_salary.salary.quantile(0.5)\n",
    "    high_q = df_salary.salary.quantile(0.75)\n",
    "    max_ = df_salary.salary.max()\n",
    "    \n",
    "    if min_ < x < low_q:\n",
    "        return 0\n",
    "    if low_q < x < median:\n",
    "        return 1\n",
    "    if median < x < high_q:\n",
    "        return 2\n",
    "    if high_q < x < max_:\n",
    "        return 3"
   ]
  },
  {
   "cell_type": "code",
   "execution_count": 559,
   "id": "6b8f5faa",
   "metadata": {
    "ExecuteTime": {
     "end_time": "2022-05-16T06:16:36.908287Z",
     "start_time": "2022-05-16T06:16:34.033781Z"
    }
   },
   "outputs": [
    {
     "data": {
      "text/plain": [
       "1.0    0.250152\n",
       "0.0    0.250152\n",
       "3.0    0.249848\n",
       "2.0    0.249848\n",
       "Name: salary, dtype: float64"
      ]
     },
     "execution_count": 559,
     "metadata": {},
     "output_type": "execute_result"
    }
   ],
   "source": [
    "df_salary.salary.apply(salary_categories).value_counts(normalize=True)"
   ]
  },
  {
   "cell_type": "code",
   "execution_count": 560,
   "id": "6db148c1",
   "metadata": {
    "ExecuteTime": {
     "end_time": "2022-05-16T06:17:39.450640Z",
     "start_time": "2022-05-16T06:17:36.560574Z"
    }
   },
   "outputs": [],
   "source": [
    "df_salary['salary_class'] = df_salary.salary.apply(salary_categories)"
   ]
  },
  {
   "cell_type": "code",
   "execution_count": null,
   "id": "142bbfe0",
   "metadata": {},
   "outputs": [],
   "source": []
  }
 ],
 "metadata": {
  "kernelspec": {
   "display_name": "Python 3 (ipykernel)",
   "language": "python",
   "name": "python3"
  },
  "language_info": {
   "codemirror_mode": {
    "name": "ipython",
    "version": 3
   },
   "file_extension": ".py",
   "mimetype": "text/x-python",
   "name": "python",
   "nbconvert_exporter": "python",
   "pygments_lexer": "ipython3",
   "version": "3.9.7"
  },
  "varInspector": {
   "cols": {
    "lenName": 16,
    "lenType": 16,
    "lenVar": 40
   },
   "kernels_config": {
    "python": {
     "delete_cmd_postfix": "",
     "delete_cmd_prefix": "del ",
     "library": "var_list.py",
     "varRefreshCmd": "print(var_dic_list())"
    },
    "r": {
     "delete_cmd_postfix": ") ",
     "delete_cmd_prefix": "rm(",
     "library": "var_list.r",
     "varRefreshCmd": "cat(var_dic_list()) "
    }
   },
   "types_to_exclude": [
    "module",
    "function",
    "builtin_function_or_method",
    "instance",
    "_Feature"
   ],
   "window_display": false
  }
 },
 "nbformat": 4,
 "nbformat_minor": 5
}
