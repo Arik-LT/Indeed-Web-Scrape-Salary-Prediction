{
 "cells": [
  {
   "cell_type": "markdown",
   "metadata": {
    "focus": false,
    "id": "69b9a648-bcc7-490d-9f9b-ea244d156bd6"
   },
   "source": [
    "# Web Scraping for Indeed.com and Predicting Salaries - Data Cleaning"
   ]
  },
  {
   "cell_type": "code",
   "execution_count": 2,
   "metadata": {
    "ExecuteTime": {
     "end_time": "2022-05-18T13:26:11.168643Z",
     "start_time": "2022-05-18T13:26:09.285742Z"
    },
    "focus": false,
    "id": "2efefc73-064a-482d-b3b5-ddf5508cb4ec"
   },
   "outputs": [],
   "source": [
    "import requests\n",
    "import bs4\n",
    "from bs4 import BeautifulSoup\n",
    "import pandas as pd\n",
    "import numpy as np\n",
    "import time\n",
    "import re"
   ]
  },
  {
   "cell_type": "markdown",
   "metadata": {},
   "source": [
    "-----"
   ]
  },
  {
   "cell_type": "markdown",
   "metadata": {},
   "source": [
    "#### Cleaning the data"
   ]
  },
  {
   "cell_type": "code",
   "execution_count": 4,
   "metadata": {
    "ExecuteTime": {
     "end_time": "2022-05-14T08:29:16.919871Z",
     "start_time": "2022-05-14T08:29:16.864988Z"
    }
   },
   "outputs": [],
   "source": [
    "c1 = pd.read_csv('Job_listings_australia.csv')\n",
    "c2 = pd.read_csv('Job_listings_canada_1.csv')\n",
    "c3 = pd.read_csv('Job_listings_united_kingdom.csv')\n",
    "c4 = pd.read_csv('Job_listings_usa.csv')"
   ]
  },
  {
   "cell_type": "code",
   "execution_count": 7,
   "metadata": {
    "ExecuteTime": {
     "end_time": "2022-05-14T08:30:26.721092Z",
     "start_time": "2022-05-14T08:30:26.700187Z"
    }
   },
   "outputs": [],
   "source": [
    "df = pd.concat([c1,c2,c3,c4])\n",
    "df.dropna(subset=['job_title', 'company', 'location'], inplace=True)"
   ]
  },
  {
   "cell_type": "markdown",
   "metadata": {},
   "source": [
    "There are some columns with new attatched to the title and these could be duplicates as a new job could be an old job depending when I carried out the scrape."
   ]
  },
  {
   "cell_type": "code",
   "execution_count": 9,
   "metadata": {
    "ExecuteTime": {
     "end_time": "2022-05-14T08:31:26.001011Z",
     "start_time": "2022-05-14T08:31:25.992776Z"
    }
   },
   "outputs": [],
   "source": [
    "def strip_new(x):\n",
    "    if 'new' in x:\n",
    "        return x.replace('new', '')\n",
    "    else:\n",
    "        return x"
   ]
  },
  {
   "cell_type": "code",
   "execution_count": 10,
   "metadata": {
    "ExecuteTime": {
     "end_time": "2022-05-14T08:31:39.354127Z",
     "start_time": "2022-05-14T08:31:39.332629Z"
    }
   },
   "outputs": [],
   "source": [
    "df['job_title'] = df.job_title.apply(strip_new)"
   ]
  },
  {
   "cell_type": "code",
   "execution_count": 21,
   "metadata": {
    "ExecuteTime": {
     "end_time": "2022-05-14T08:34:25.742944Z",
     "start_time": "2022-05-14T08:34:25.715675Z"
    }
   },
   "outputs": [],
   "source": [
    "df.drop_duplicates(inplace=True)\n",
    "df.reset_index(drop=True, inplace=True)"
   ]
  },
  {
   "cell_type": "markdown",
   "metadata": {},
   "source": [
    "Save final job to csv"
   ]
  },
  {
   "cell_type": "code",
   "execution_count": 27,
   "metadata": {
    "ExecuteTime": {
     "end_time": "2022-05-14T08:38:16.004914Z",
     "start_time": "2022-05-14T08:38:15.946097Z"
    }
   },
   "outputs": [],
   "source": [
    "df.to_csv('job_listings_full.csv', index=False)"
   ]
  },
  {
   "cell_type": "markdown",
   "metadata": {},
   "source": [
    "And now strip only the columns with salary from this dataframe to obtain the dataframe we will work with for the modelling process."
   ]
  },
  {
   "cell_type": "code",
   "execution_count": 33,
   "metadata": {
    "ExecuteTime": {
     "end_time": "2022-05-14T08:44:10.211316Z",
     "start_time": "2022-05-14T08:44:10.179504Z"
    }
   },
   "outputs": [],
   "source": [
    "df_salary = df.dropna().reset_index(drop=True)\n",
    "df_salary.to_csv('job_listings_salary.csv', index=False)"
   ]
  },
  {
   "cell_type": "markdown",
   "metadata": {},
   "source": [
    "Now we have our final dataframe for the mdoelling stage. But we still need to clean it."
   ]
  },
  {
   "cell_type": "code",
   "execution_count": 32,
   "metadata": {
    "ExecuteTime": {
     "end_time": "2022-05-14T08:41:07.769573Z",
     "start_time": "2022-05-14T08:41:07.751707Z"
    }
   },
   "outputs": [
    {
     "data": {
      "text/html": [
       "<div>\n",
       "<style scoped>\n",
       "    .dataframe tbody tr th:only-of-type {\n",
       "        vertical-align: middle;\n",
       "    }\n",
       "\n",
       "    .dataframe tbody tr th {\n",
       "        vertical-align: top;\n",
       "    }\n",
       "\n",
       "    .dataframe thead th {\n",
       "        text-align: right;\n",
       "    }\n",
       "</style>\n",
       "<table border=\"1\" class=\"dataframe\">\n",
       "  <thead>\n",
       "    <tr style=\"text-align: right;\">\n",
       "      <th></th>\n",
       "      <th>job_title</th>\n",
       "      <th>company</th>\n",
       "      <th>location</th>\n",
       "      <th>salary</th>\n",
       "      <th>country</th>\n",
       "    </tr>\n",
       "  </thead>\n",
       "  <tbody>\n",
       "    <tr>\n",
       "      <th>0</th>\n",
       "      <td>Marketing Data analyst</td>\n",
       "      <td>HAYS</td>\n",
       "      <td>Melbourne VIC</td>\n",
       "      <td>$80,000 a year</td>\n",
       "      <td>australia</td>\n",
       "    </tr>\n",
       "    <tr>\n",
       "      <th>1</th>\n",
       "      <td>Supply Chain Analyst</td>\n",
       "      <td>Michael Page</td>\n",
       "      <td>Melbourne VIC</td>\n",
       "      <td>$80,000 - $90,000 a year</td>\n",
       "      <td>australia</td>\n",
       "    </tr>\n",
       "    <tr>\n",
       "      <th>2</th>\n",
       "      <td>Data Architect - Financial Services - Data &amp; A...</td>\n",
       "      <td>EY</td>\n",
       "      <td>Melbourne VIC 3000</td>\n",
       "      <td>$90,000 a year</td>\n",
       "      <td>australia</td>\n",
       "    </tr>\n",
       "    <tr>\n",
       "      <th>3</th>\n",
       "      <td>Senior Data Business Analyst</td>\n",
       "      <td>Talent International</td>\n",
       "      <td>Melbourne VIC</td>\n",
       "      <td>$900 - $1,200 a day</td>\n",
       "      <td>australia</td>\n",
       "    </tr>\n",
       "    <tr>\n",
       "      <th>4</th>\n",
       "      <td>Senior Data Warehouse Analyst - Education</td>\n",
       "      <td>Charterhouse</td>\n",
       "      <td>Docklands VIC</td>\n",
       "      <td>$116,547 a year</td>\n",
       "      <td>australia</td>\n",
       "    </tr>\n",
       "  </tbody>\n",
       "</table>\n",
       "</div>"
      ],
      "text/plain": [
       "                                           job_title               company  \\\n",
       "0                             Marketing Data analyst                  HAYS   \n",
       "1                               Supply Chain Analyst          Michael Page   \n",
       "2  Data Architect - Financial Services - Data & A...                    EY   \n",
       "3                       Senior Data Business Analyst  Talent International   \n",
       "4          Senior Data Warehouse Analyst - Education          Charterhouse   \n",
       "\n",
       "             location                    salary    country  \n",
       "0       Melbourne VIC            $80,000 a year  australia  \n",
       "1       Melbourne VIC  $80,000 - $90,000 a year  australia  \n",
       "2  Melbourne VIC 3000            $90,000 a year  australia  \n",
       "3       Melbourne VIC       $900 - $1,200 a day  australia  \n",
       "4       Docklands VIC           $116,547 a year  australia  "
      ]
     },
     "execution_count": 32,
     "metadata": {},
     "output_type": "execute_result"
    }
   ],
   "source": [
    "df_salary.head()"
   ]
  },
  {
   "cell_type": "markdown",
   "metadata": {
    "focus": false,
    "id": "ff98ce64-78a7-441f-a675-63464e32c834"
   },
   "source": [
    "#### Lastly, we need to clean up salary data. \n",
    "\n",
    "1. Only a small number of the scraped results have salary information - only these will be used for modeling.\n",
    "1. Some of the salaries are not yearly but hourly or weekly, these will not be useful to us for now.\n",
    "1. Some of the entries may be duplicated.\n",
    "1. The salaries are given as text and usually with ranges."
   ]
  },
  {
   "cell_type": "code",
   "execution_count": 310,
   "metadata": {
    "ExecuteTime": {
     "end_time": "2022-05-17T14:55:37.190276Z",
     "start_time": "2022-05-17T14:55:37.174193Z"
    }
   },
   "outputs": [],
   "source": [
    "df_salary = pd.read_csv('job_listings_salary.csv')"
   ]
  },
  {
   "cell_type": "code",
   "execution_count": 311,
   "metadata": {
    "ExecuteTime": {
     "end_time": "2022-05-17T14:55:38.346475Z",
     "start_time": "2022-05-17T14:55:38.331196Z"
    }
   },
   "outputs": [],
   "source": [
    "hour = 0\n",
    "day = 0\n",
    "week = 0\n",
    "month = 0\n",
    "year = 0\n",
    "other = 0\n",
    "other_index = []\n",
    "\n",
    "for i, x in enumerate(df_salary.salary):\n",
    "    if 'hour'in x:\n",
    "        hour += 1\n",
    "    elif 'day' in x:\n",
    "        day += 1\n",
    "    elif 'week' in x:\n",
    "        week += 1\n",
    "    elif 'month' in x:\n",
    "        month += 1\n",
    "    elif 'year' in x:\n",
    "        year += 1\n",
    "    else:\n",
    "        other+= 1\n",
    "        other_index.append(i)"
   ]
  },
  {
   "cell_type": "markdown",
   "metadata": {},
   "source": [
    "Check what salary types there are and if there are other types not included in the obvious ones including their index to be able to look at them."
   ]
  },
  {
   "cell_type": "code",
   "execution_count": 312,
   "metadata": {
    "ExecuteTime": {
     "end_time": "2022-05-17T14:55:39.754246Z",
     "start_time": "2022-05-17T14:55:39.744253Z"
    }
   },
   "outputs": [
    {
     "name": "stdout",
     "output_type": "stream",
     "text": [
      "hour: 222\n",
      "day: 81\n",
      "week: 16\n",
      "month: 31\n",
      "year: 2941\n",
      "other: 0\n"
     ]
    }
   ],
   "source": [
    "print('hour:', hour)\n",
    "print('day:', day)\n",
    "print('week:', week)\n",
    "print('month:', month)\n",
    "print('year:', year)\n",
    "print('other:', other)"
   ]
  },
  {
   "cell_type": "markdown",
   "metadata": {},
   "source": [
    "#### I will create a new column indicating whether the salary displayed is hourly, dayly... to later multiply and make all values yearly."
   ]
  },
  {
   "cell_type": "code",
   "execution_count": 313,
   "metadata": {
    "ExecuteTime": {
     "end_time": "2022-05-17T14:55:39.904941Z",
     "start_time": "2022-05-17T14:55:39.902546Z"
    }
   },
   "outputs": [],
   "source": [
    "def extract_time_frame(x):\n",
    "    if 'hour'in x:\n",
    "        return 'hour'\n",
    "    elif 'day' in x:\n",
    "        return 'day'\n",
    "    elif 'week' in x:\n",
    "        return 'week'\n",
    "    elif 'month' in x:\n",
    "        return 'month'\n",
    "    elif 'year' in x:\n",
    "        return 'year'"
   ]
  },
  {
   "cell_type": "code",
   "execution_count": 314,
   "metadata": {
    "ExecuteTime": {
     "end_time": "2022-05-17T14:55:41.261918Z",
     "start_time": "2022-05-17T14:55:41.250833Z"
    }
   },
   "outputs": [],
   "source": [
    "df_salary['time_frame'] = df_salary['salary'].apply(extract_time_frame)"
   ]
  },
  {
   "cell_type": "markdown",
   "metadata": {},
   "source": [
    "#### Cleaning the salary column to leave just numbers and dashes"
   ]
  },
  {
   "cell_type": "code",
   "execution_count": 315,
   "metadata": {
    "ExecuteTime": {
     "end_time": "2022-05-17T14:55:42.140264Z",
     "start_time": "2022-05-17T14:55:42.131709Z"
    }
   },
   "outputs": [],
   "source": [
    "def clean_salary(x):\n",
    "    return re.sub(r'[^0-9-.]', '', x)"
   ]
  },
  {
   "cell_type": "code",
   "execution_count": 316,
   "metadata": {
    "ExecuteTime": {
     "end_time": "2022-05-17T14:55:42.851371Z",
     "start_time": "2022-05-17T14:55:42.824369Z"
    }
   },
   "outputs": [],
   "source": [
    "df_salary.salary = df_salary.salary.apply(clean_salary)"
   ]
  },
  {
   "cell_type": "code",
   "execution_count": 317,
   "metadata": {
    "ExecuteTime": {
     "end_time": "2022-05-17T14:55:43.147388Z",
     "start_time": "2022-05-17T14:55:43.124432Z"
    }
   },
   "outputs": [
    {
     "data": {
      "text/plain": [
       "0          80000\n",
       "1    80000-90000\n",
       "2          90000\n",
       "3       900-1200\n",
       "4         116547\n",
       "Name: salary, dtype: object"
      ]
     },
     "execution_count": 317,
     "metadata": {},
     "output_type": "execute_result"
    }
   ],
   "source": [
    "df_salary.salary.head()"
   ]
  },
  {
   "cell_type": "code",
   "execution_count": 318,
   "metadata": {
    "ExecuteTime": {
     "end_time": "2022-05-17T14:55:44.255313Z",
     "start_time": "2022-05-17T14:55:44.247639Z"
    }
   },
   "outputs": [],
   "source": [
    "def averages_int(x):\n",
    "    if '-' in x:\n",
    "        a,b = x.split('-')\n",
    "        return int((float(a)+float(b))/2)\n",
    "    else:\n",
    "        return int(float(x))"
   ]
  },
  {
   "cell_type": "code",
   "execution_count": 319,
   "metadata": {
    "ExecuteTime": {
     "end_time": "2022-05-17T14:55:44.585231Z",
     "start_time": "2022-05-17T14:55:44.569638Z"
    }
   },
   "outputs": [],
   "source": [
    "df_salary.salary = df_salary.salary.apply(averages_int)"
   ]
  },
  {
   "cell_type": "markdown",
   "metadata": {},
   "source": [
    "-----"
   ]
  },
  {
   "cell_type": "markdown",
   "metadata": {},
   "source": [
    "#### Obtaining the latest currency exchange rates"
   ]
  },
  {
   "cell_type": "code",
   "execution_count": 320,
   "metadata": {
    "ExecuteTime": {
     "end_time": "2022-05-17T14:55:48.624118Z",
     "start_time": "2022-05-17T14:55:47.758394Z"
    }
   },
   "outputs": [],
   "source": [
    "from forex_python.converter import CurrencyRates\n",
    "\n",
    "\n",
    "# Obtaining the latest currency exchanges\n",
    "c = CurrencyRates()\n",
    "usd_gbp = round(c.get_rate('USD', 'GBP'),3)\n",
    "cad_gbp = round(c.get_rate('CAD', 'GBP'),3)\n",
    "aud_gbp = round(c.get_rate('AUD', 'GBP'),3)"
   ]
  },
  {
   "cell_type": "markdown",
   "metadata": {},
   "source": [
    "#### Obtaining the index locations for the respective countries. ( We are changing everything to GPB so uk is not included )."
   ]
  },
  {
   "cell_type": "code",
   "execution_count": 321,
   "metadata": {
    "ExecuteTime": {
     "end_time": "2022-05-17T14:55:49.510334Z",
     "start_time": "2022-05-17T14:55:49.494576Z"
    }
   },
   "outputs": [],
   "source": [
    "us_index = df_salary[df_salary['country'] == 'united states'].index\n",
    "aus_index = df_salary[df_salary['country'] == 'australia'].index\n",
    "cad_index = df_salary[df_salary['country'] == 'Canada'].index"
   ]
  },
  {
   "cell_type": "code",
   "execution_count": 322,
   "metadata": {
    "ExecuteTime": {
     "end_time": "2022-05-17T14:55:50.311237Z",
     "start_time": "2022-05-17T14:55:50.290791Z"
    }
   },
   "outputs": [
    {
     "name": "stderr",
     "output_type": "stream",
     "text": [
      "/Users/ariklevy/opt/anaconda3/lib/python3.9/site-packages/pandas/core/indexing.py:1732: SettingWithCopyWarning: \n",
      "A value is trying to be set on a copy of a slice from a DataFrame\n",
      "\n",
      "See the caveats in the documentation: https://pandas.pydata.org/pandas-docs/stable/user_guide/indexing.html#returning-a-view-versus-a-copy\n",
      "  self._setitem_single_block(indexer, value, name)\n"
     ]
    }
   ],
   "source": [
    "df_salary.salary.loc[us_index] = df_salary.salary*usd_gbp\n",
    "df_salary.salary.loc[aus_index] = df_salary.salary*aud_gbp\n",
    "df_salary.salary.loc[cad_index] = df_salary.salary*cad_gbp"
   ]
  },
  {
   "cell_type": "markdown",
   "metadata": {},
   "source": [
    "#### Changing every salary entry to yearly and dropping the time frame column we created above as we don´t need it anymore."
   ]
  },
  {
   "cell_type": "code",
   "execution_count": 323,
   "metadata": {
    "ExecuteTime": {
     "end_time": "2022-05-17T14:55:52.322115Z",
     "start_time": "2022-05-17T14:55:52.299866Z"
    }
   },
   "outputs": [],
   "source": [
    "df_salary.salary.loc[df_salary[df_salary['time_frame'] == 'hour'].index] = df_salary.salary*40*52\n",
    "df_salary.salary.loc[df_salary[df_salary['time_frame'] == 'day'].index] = df_salary.salary*5*52\n",
    "df_salary.salary.loc[df_salary[df_salary['time_frame'] == 'week'].index] = df_salary.salary*52\n",
    "df_salary.salary.loc[df_salary[df_salary['time_frame'] == 'month'].index] = df_salary.salary*12"
   ]
  },
  {
   "cell_type": "code",
   "execution_count": 324,
   "metadata": {
    "ExecuteTime": {
     "end_time": "2022-05-17T14:55:53.185334Z",
     "start_time": "2022-05-17T14:55:53.171590Z"
    }
   },
   "outputs": [],
   "source": [
    "df_salary.drop('time_frame', axis=1, inplace=True)"
   ]
  },
  {
   "cell_type": "code",
   "execution_count": 325,
   "metadata": {
    "ExecuteTime": {
     "end_time": "2022-05-17T14:55:54.697820Z",
     "start_time": "2022-05-17T14:55:54.676699Z"
    }
   },
   "outputs": [
    {
     "data": {
      "text/html": [
       "<div>\n",
       "<style scoped>\n",
       "    .dataframe tbody tr th:only-of-type {\n",
       "        vertical-align: middle;\n",
       "    }\n",
       "\n",
       "    .dataframe tbody tr th {\n",
       "        vertical-align: top;\n",
       "    }\n",
       "\n",
       "    .dataframe thead th {\n",
       "        text-align: right;\n",
       "    }\n",
       "</style>\n",
       "<table border=\"1\" class=\"dataframe\">\n",
       "  <thead>\n",
       "    <tr style=\"text-align: right;\">\n",
       "      <th></th>\n",
       "      <th>job_title</th>\n",
       "      <th>company</th>\n",
       "      <th>location</th>\n",
       "      <th>salary</th>\n",
       "      <th>country</th>\n",
       "    </tr>\n",
       "  </thead>\n",
       "  <tbody>\n",
       "    <tr>\n",
       "      <th>1977</th>\n",
       "      <td>Data Entry Clerk III</td>\n",
       "      <td>1199SEIU Benefit and Pension Funds</td>\n",
       "      <td>New York, NY</td>\n",
       "      <td>30.192</td>\n",
       "      <td>united states</td>\n",
       "    </tr>\n",
       "    <tr>\n",
       "      <th>1978</th>\n",
       "      <td>Recruitment Coordination Team Lead</td>\n",
       "      <td>Spotify</td>\n",
       "      <td>Remote in New York, NY+2 locations</td>\n",
       "      <td>57.120</td>\n",
       "      <td>united states</td>\n",
       "    </tr>\n",
       "    <tr>\n",
       "      <th>1979</th>\n",
       "      <td>Data Processing Helper</td>\n",
       "      <td>Tompkins County</td>\n",
       "      <td>Tompkins County, NY</td>\n",
       "      <td>37.536</td>\n",
       "      <td>united states</td>\n",
       "    </tr>\n",
       "    <tr>\n",
       "      <th>1980</th>\n",
       "      <td>CRM Data Analyst</td>\n",
       "      <td>Bard College</td>\n",
       "      <td>Annandale-on-Hudson, NY 12504</td>\n",
       "      <td>53.856</td>\n",
       "      <td>united states</td>\n",
       "    </tr>\n",
       "    <tr>\n",
       "      <th>1981</th>\n",
       "      <td>Data Analyst</td>\n",
       "      <td>GlossGenius</td>\n",
       "      <td>Remote in New York, NY+1 location</td>\n",
       "      <td>72.624</td>\n",
       "      <td>united states</td>\n",
       "    </tr>\n",
       "    <tr>\n",
       "      <th>...</th>\n",
       "      <td>...</td>\n",
       "      <td>...</td>\n",
       "      <td>...</td>\n",
       "      <td>...</td>\n",
       "      <td>...</td>\n",
       "    </tr>\n",
       "    <tr>\n",
       "      <th>2876</th>\n",
       "      <td>Junior Study Designer</td>\n",
       "      <td>NEFORM by NESS</td>\n",
       "      <td>Brookline, MA</td>\n",
       "      <td>48.960</td>\n",
       "      <td>united states</td>\n",
       "    </tr>\n",
       "    <tr>\n",
       "      <th>2877</th>\n",
       "      <td>Data Scientist</td>\n",
       "      <td>Pison</td>\n",
       "      <td>Boston, MA</td>\n",
       "      <td>94.656</td>\n",
       "      <td>united states</td>\n",
       "    </tr>\n",
       "    <tr>\n",
       "      <th>2878</th>\n",
       "      <td>Anticipated Administrative Assistant to Specia...</td>\n",
       "      <td>Old Rochester Regional School District/MA Supt...</td>\n",
       "      <td>Mattapoisett, MA 02739</td>\n",
       "      <td>35.904</td>\n",
       "      <td>united states</td>\n",
       "    </tr>\n",
       "    <tr>\n",
       "      <th>2879</th>\n",
       "      <td>Senior Principal Strategist</td>\n",
       "      <td>Cambridge Consultants Ltd</td>\n",
       "      <td>Boston, MA</td>\n",
       "      <td>82.416</td>\n",
       "      <td>united states</td>\n",
       "    </tr>\n",
       "    <tr>\n",
       "      <th>2880</th>\n",
       "      <td>Clinical Trial Support Specialist</td>\n",
       "      <td>Precision Medicine Group</td>\n",
       "      <td>Remote in Boston, MA</td>\n",
       "      <td>86.496</td>\n",
       "      <td>united states</td>\n",
       "    </tr>\n",
       "  </tbody>\n",
       "</table>\n",
       "<p>904 rows × 5 columns</p>\n",
       "</div>"
      ],
      "text/plain": [
       "                                              job_title  \\\n",
       "1977                               Data Entry Clerk III   \n",
       "1978                 Recruitment Coordination Team Lead   \n",
       "1979                             Data Processing Helper   \n",
       "1980                                   CRM Data Analyst   \n",
       "1981                                       Data Analyst   \n",
       "...                                                 ...   \n",
       "2876                              Junior Study Designer   \n",
       "2877                                     Data Scientist   \n",
       "2878  Anticipated Administrative Assistant to Specia...   \n",
       "2879                        Senior Principal Strategist   \n",
       "2880                  Clinical Trial Support Specialist   \n",
       "\n",
       "                                                company  \\\n",
       "1977                 1199SEIU Benefit and Pension Funds   \n",
       "1978                                            Spotify   \n",
       "1979                                    Tompkins County   \n",
       "1980                                       Bard College   \n",
       "1981                                        GlossGenius   \n",
       "...                                                 ...   \n",
       "2876                                     NEFORM by NESS   \n",
       "2877                                              Pison   \n",
       "2878  Old Rochester Regional School District/MA Supt...   \n",
       "2879                          Cambridge Consultants Ltd   \n",
       "2880                           Precision Medicine Group   \n",
       "\n",
       "                                location  salary        country  \n",
       "1977                        New York, NY  30.192  united states  \n",
       "1978  Remote in New York, NY+2 locations  57.120  united states  \n",
       "1979                 Tompkins County, NY  37.536  united states  \n",
       "1980       Annandale-on-Hudson, NY 12504  53.856  united states  \n",
       "1981   Remote in New York, NY+1 location  72.624  united states  \n",
       "...                                  ...     ...            ...  \n",
       "2876                       Brookline, MA  48.960  united states  \n",
       "2877                          Boston, MA  94.656  united states  \n",
       "2878              Mattapoisett, MA 02739  35.904  united states  \n",
       "2879                          Boston, MA  82.416  united states  \n",
       "2880                Remote in Boston, MA  86.496  united states  \n",
       "\n",
       "[904 rows x 5 columns]"
      ]
     },
     "execution_count": 325,
     "metadata": {},
     "output_type": "execute_result"
    }
   ],
   "source": [
    "df_salary[df_salary['salary'] < 3000]"
   ]
  },
  {
   "cell_type": "markdown",
   "metadata": {},
   "source": [
    "Finally I noticed that some columns in the data had a 'k' instead of the numerical value of 1000, so we have to change those rows and multiply them by a 1000."
   ]
  },
  {
   "cell_type": "markdown",
   "metadata": {},
   "source": [
    "There are 904 rows with this issue which is imperative we fix it."
   ]
  },
  {
   "cell_type": "code",
   "execution_count": 326,
   "metadata": {
    "ExecuteTime": {
     "end_time": "2022-05-17T14:55:57.940681Z",
     "start_time": "2022-05-17T14:55:57.932052Z"
    }
   },
   "outputs": [],
   "source": [
    "def k_to_thousand(x):\n",
    "    if x < 1000:\n",
    "        return x*1000\n",
    "    else:\n",
    "        return x"
   ]
  },
  {
   "cell_type": "code",
   "execution_count": 327,
   "metadata": {
    "ExecuteTime": {
     "end_time": "2022-05-17T14:55:59.184484Z",
     "start_time": "2022-05-17T14:55:59.171363Z"
    }
   },
   "outputs": [],
   "source": [
    "df_salary.salary = df_salary.salary.apply(k_to_thousand)"
   ]
  },
  {
   "cell_type": "markdown",
   "metadata": {
    "focus": false,
    "id": "43e71edd-210e-42b1-9336-70a931f048af"
   },
   "source": [
    "### Save results as a CSV"
   ]
  },
  {
   "cell_type": "code",
   "execution_count": 165,
   "metadata": {
    "ExecuteTime": {
     "end_time": "2022-05-16T17:57:47.947804Z",
     "start_time": "2022-05-16T17:57:47.847232Z"
    },
    "focus": false,
    "id": "783fd153-28ac-47ab-bfca-27e7c1de95b4"
   },
   "outputs": [],
   "source": [
    "df_salary.to_csv('job_listings_clean_salary.csv', index=False)"
   ]
  },
  {
   "cell_type": "markdown",
   "metadata": {
    "focus": false,
    "id": "243e949e-2742-40af-872e-fec475fd306c"
   },
   "source": [
    "### Load in the the data of scraped salaries"
   ]
  },
  {
   "cell_type": "code",
   "execution_count": 211,
   "metadata": {
    "ExecuteTime": {
     "end_time": "2022-05-18T19:20:56.450164Z",
     "start_time": "2022-05-18T19:20:56.425228Z"
    },
    "focus": false,
    "id": "588f9845-6143-4bcc-bfd1-85d45b79303d"
   },
   "outputs": [],
   "source": [
    "df_salary = pd.read_csv('job_listings_clean_salary.csv')"
   ]
  },
  {
   "cell_type": "code",
   "execution_count": 213,
   "metadata": {
    "ExecuteTime": {
     "end_time": "2022-05-18T19:21:26.181193Z",
     "start_time": "2022-05-18T19:21:26.172855Z"
    }
   },
   "outputs": [],
   "source": [
    "import seaborn as sns\n",
    "import matplotlib.pyplot as plt"
   ]
  },
  {
   "cell_type": "markdown",
   "metadata": {},
   "source": [
    "The salary column is slightly skewed"
   ]
  },
  {
   "cell_type": "code",
   "execution_count": 214,
   "metadata": {
    "ExecuteTime": {
     "end_time": "2022-05-18T19:21:28.284345Z",
     "start_time": "2022-05-18T19:21:28.152404Z"
    }
   },
   "outputs": [
    {
     "data": {
      "image/png": "[encoded data removed]",
      "text/plain": [
       "<Figure size 432x288 with 1 Axes>"
      ]
     },
     "metadata": {
      "needs_background": "light"
     },
     "output_type": "display_data"
    }
   ],
   "source": [
    "plt.title('Salary Histogram')\n",
    "sns.histplot(df_salary.salary);"
   ]
  },
  {
   "cell_type": "code",
   "execution_count": 10,
   "metadata": {
    "ExecuteTime": {
     "end_time": "2022-05-18T13:50:20.629798Z",
     "start_time": "2022-05-18T13:50:20.137389Z"
    }
   },
   "outputs": [
    {
     "data": {
      "image/png": "[encoded data removed]",
      "text/plain": [
       "<Figure size 432x288 with 1 Axes>"
      ]
     },
     "metadata": {
      "needs_background": "light"
     },
     "output_type": "display_data"
    }
   ],
   "source": [
    "plt.title('Log Salary Histogram')\n",
    "sns.histplot(df_salary.salary, log_scale=True);"
   ]
  },
  {
   "cell_type": "markdown",
   "metadata": {},
   "source": [
    "I will apply a log transformation to the salary column to make it normally distributed"
   ]
  },
  {
   "cell_type": "code",
   "execution_count": 11,
   "metadata": {
    "ExecuteTime": {
     "end_time": "2022-05-18T13:50:21.664394Z",
     "start_time": "2022-05-18T13:50:21.649946Z"
    }
   },
   "outputs": [],
   "source": [
    "df_salary.salary =  np.log(df_salary.salary)"
   ]
  },
  {
   "cell_type": "markdown",
   "metadata": {},
   "source": [
    "Now I will split the salary column into four categories, depending on whether the salary likes below the lower queartile, between the lower quartile and the median, between the median and the upper quartile, or higher than the upper quartile."
   ]
  },
  {
   "cell_type": "markdown",
   "metadata": {},
   "source": [
    "### Split into 4 categories as a way to future imrove on this project. For now I will keep it binary."
   ]
  },
  {
   "cell_type": "code",
   "execution_count": 215,
   "metadata": {
    "ExecuteTime": {
     "end_time": "2022-05-18T19:21:38.868878Z",
     "start_time": "2022-05-18T19:21:38.857898Z"
    },
    "focus": false,
    "id": "c20d2498-151c-44c3-a453-3a333c79a0ac"
   },
   "outputs": [],
   "source": [
    "def salary_categories(x):\n",
    "   \n",
    "    min_ = df_salary.salary.min()\n",
    "    low_q = df_salary.salary.quantile(0.25)\n",
    "    median = df_salary.salary.quantile(0.5)\n",
    "    high_q = df_salary.salary.quantile(0.75)\n",
    "    max_ = df_salary.salary.max()\n",
    "    \n",
    "    if min_ <= x < low_q:\n",
    "        return 0\n",
    "    if low_q <= x < median:\n",
    "        return 1\n",
    "    if median <= x < high_q:\n",
    "        return 2\n",
    "    if high_q < x <= max_:\n",
    "        return 3"
   ]
  },
  {
   "cell_type": "code",
   "execution_count": 216,
   "metadata": {
    "ExecuteTime": {
     "end_time": "2022-05-18T19:21:45.366316Z",
     "start_time": "2022-05-18T19:21:42.469804Z"
    }
   },
   "outputs": [],
   "source": [
    "df_salary['salary_cat'] = df_salary.salary.apply(salary_categories)"
   ]
  },
  {
   "cell_type": "code",
   "execution_count": 217,
   "metadata": {
    "ExecuteTime": {
     "end_time": "2022-05-18T19:21:45.681219Z",
     "start_time": "2022-05-18T19:21:45.678964Z"
    }
   },
   "outputs": [],
   "source": [
    "def salary_binary(x):\n",
    "\n",
    "    median = df_salary.salary.quantile(0.5)\n",
    "    \n",
    "    if x < median:\n",
    "        return 0\n",
    "    else:\n",
    "        return 1"
   ]
  },
  {
   "cell_type": "code",
   "execution_count": 218,
   "metadata": {
    "ExecuteTime": {
     "end_time": "2022-05-18T19:21:46.884046Z",
     "start_time": "2022-05-18T19:21:45.991003Z"
    }
   },
   "outputs": [],
   "source": [
    "df_salary['salary_binary'] = df_salary.salary.apply(salary_binary)"
   ]
  },
  {
   "cell_type": "markdown",
   "metadata": {
    "focus": false,
    "id": "a7afb2c0-d41e-4779-8216-91cd8dd4473f"
   },
   "source": [
    "#### Thought experiment: What is the baseline accuracy for this model?"
   ]
  },
  {
   "cell_type": "code",
   "execution_count": 219,
   "metadata": {
    "ExecuteTime": {
     "end_time": "2022-05-18T19:21:47.198204Z",
     "start_time": "2022-05-18T19:21:47.194327Z"
    },
    "focus": false,
    "id": "87a17d3d-b7f4-4747-9f75-f9af1d18a174"
   },
   "outputs": [
    {
     "data": {
      "text/plain": [
       "3    0.250076\n",
       "2    0.250076\n",
       "0    0.250076\n",
       "1    0.249772\n",
       "Name: salary_cat, dtype: float64"
      ]
     },
     "execution_count": 219,
     "metadata": {},
     "output_type": "execute_result"
    }
   ],
   "source": [
    "df_salary['salary_cat'].value_counts(normalize=True)"
   ]
  },
  {
   "cell_type": "code",
   "execution_count": 220,
   "metadata": {
    "ExecuteTime": {
     "end_time": "2022-05-18T19:21:48.668571Z",
     "start_time": "2022-05-18T19:21:48.650400Z"
    }
   },
   "outputs": [
    {
     "data": {
      "text/plain": [
       "1    0.500152\n",
       "0    0.499848\n",
       "Name: salary_binary, dtype: float64"
      ]
     },
     "execution_count": 220,
     "metadata": {},
     "output_type": "execute_result"
    }
   ],
   "source": [
    "df_salary['salary_binary'].value_counts(normalize=True)"
   ]
  },
  {
   "cell_type": "markdown",
   "metadata": {},
   "source": [
    "--------"
   ]
  },
  {
   "cell_type": "markdown",
   "metadata": {},
   "source": [
    "-----"
   ]
  },
  {
   "cell_type": "markdown",
   "metadata": {},
   "source": [
    "## Cleaning the location category"
   ]
  },
  {
   "cell_type": "code",
   "execution_count": 221,
   "metadata": {
    "ExecuteTime": {
     "end_time": "2022-05-18T19:21:52.914696Z",
     "start_time": "2022-05-18T19:21:52.888768Z"
    }
   },
   "outputs": [],
   "source": [
    "def remote_hybrid_none(x):\n",
    "    if re.match(r'(h|H)ybrid', x) and re.match(r'(r|R)emote', x):\n",
    "        return 'Hybrid'\n",
    "    \n",
    "    elif re.match(r'(h|H)ybrid', x):\n",
    "        return 'Hybrid'\n",
    "\n",
    "    elif re.match(r'(r|R)emote', x):\n",
    "        return 'Remote'\n",
    "    \n",
    "    else:\n",
    "        return 'Office'\n",
    "\n",
    "df_salary['remote'] = df_salary.location.apply(remote_hybrid_none)"
   ]
  },
  {
   "cell_type": "code",
   "execution_count": 222,
   "metadata": {
    "ExecuteTime": {
     "end_time": "2022-05-18T19:21:53.612774Z",
     "start_time": "2022-05-18T19:21:53.551887Z"
    }
   },
   "outputs": [
    {
     "name": "stderr",
     "output_type": "stream",
     "text": [
      "/var/folders/0g/2n4dpfnj6xg2x7twpn7nk6nh0000gn/T/ipykernel_11436/1390068497.py:5: FutureWarning: The default value of regex will change from True to False in a future version.\n",
      "  df_salary.location = df_salary.location.str.replace(item, '')\n",
      "/var/folders/0g/2n4dpfnj6xg2x7twpn7nk6nh0000gn/T/ipykernel_11436/1390068497.py:5: FutureWarning: The default value of regex will change from True to False in a future version. In addition, single character regular expressions will *not* be treated as literal strings when regex=True.\n",
      "  df_salary.location = df_salary.location.str.replace(item, '')\n",
      "/var/folders/0g/2n4dpfnj6xg2x7twpn7nk6nh0000gn/T/ipykernel_11436/1390068497.py:11: FutureWarning: The default value of regex will change from True to False in a future version.\n",
      "  df_salary.location = df_salary.location.str.replace(r'( \\w{3}$)', '')\n",
      "/var/folders/0g/2n4dpfnj6xg2x7twpn7nk6nh0000gn/T/ipykernel_11436/1390068497.py:12: FutureWarning: The default value of regex will change from True to False in a future version.\n",
      "  df_salary.location = df_salary.location.str.replace(r'( \\w{3} )', '')\n",
      "/var/folders/0g/2n4dpfnj6xg2x7twpn7nk6nh0000gn/T/ipykernel_11436/1390068497.py:13: FutureWarning: The default value of regex will change from True to False in a future version.\n",
      "  df_salary.location = df_salary.location.str.replace(r'( \\w{2}$)', '')\n",
      "/var/folders/0g/2n4dpfnj6xg2x7twpn7nk6nh0000gn/T/ipykernel_11436/1390068497.py:14: FutureWarning: The default value of regex will change from True to False in a future version.\n",
      "  df_salary.location = df_salary.location.str.replace(r'( \\w{1}$)', '')\n",
      "/var/folders/0g/2n4dpfnj6xg2x7twpn7nk6nh0000gn/T/ipykernel_11436/1390068497.py:15: FutureWarning: The default value of regex will change from True to False in a future version.\n",
      "  df_salary.location = df_salary.location.str.replace(r'( \\w{1} )', '')\n"
     ]
    }
   ],
   "source": [
    "repl = [r'(r|R)emote', r'(h|H)ybrid', '+', 'in', r'locations?', '(The Loop area)', '(Loop area)',\n",
    "        '(Midtown area)', '(Fancial District/South Beach area)', 'Temporarily', 'Region', r'[^a-zA-Z ]+']\n",
    "\n",
    "for item in repl:\n",
    "    df_salary.location = df_salary.location.str.replace(item, '')\n",
    "    \n",
    "## Removing all white space from the column, after having replaced the items above.\n",
    "df_salary.location = df_salary.location.str.rstrip().str.lstrip()\n",
    "\n",
    "## Cleaning different instances of 1,2 & 3 sets of letter that were in the column\n",
    "df_salary.location = df_salary.location.str.replace(r'( \\w{3}$)', '')\n",
    "df_salary.location = df_salary.location.str.replace(r'( \\w{3} )', '')\n",
    "df_salary.location = df_salary.location.str.replace(r'( \\w{2}$)', '')\n",
    "df_salary.location = df_salary.location.str.replace(r'( \\w{1}$)', '')\n",
    "df_salary.location = df_salary.location.str.replace(r'( \\w{1} )', '')"
   ]
  },
  {
   "cell_type": "markdown",
   "metadata": {},
   "source": [
    "One mistake from the cleaning above is that columns that were purely Remote also got removed so I will add these back in."
   ]
  },
  {
   "cell_type": "code",
   "execution_count": 223,
   "metadata": {
    "ExecuteTime": {
     "end_time": "2022-05-18T19:21:56.160596Z",
     "start_time": "2022-05-18T19:21:56.145671Z"
    }
   },
   "outputs": [],
   "source": [
    "def add_remote(x):\n",
    "    if x == '':\n",
    "        return 'Remote'\n",
    "    else:\n",
    "        return x\n",
    "df_salary.location = df_salary.location.apply(add_remote)"
   ]
  },
  {
   "cell_type": "code",
   "execution_count": 224,
   "metadata": {
    "ExecuteTime": {
     "end_time": "2022-05-18T19:21:57.389893Z",
     "start_time": "2022-05-18T19:21:57.363563Z"
    }
   },
   "outputs": [],
   "source": [
    "cities = []\n",
    "pattern = re.compile(r'(^\\w+\\s\\w+)')\n",
    "pattern2 = re.compile(r'(^\\w+)')\n",
    "\n",
    "for x in df_salary.location:\n",
    "    if re.findall(pattern, x) != []:\n",
    "        cities.append(re.findall(pattern, x))\n",
    "    else:\n",
    "        cities.append(re.findall(pattern2, x))\n",
    "df_salary['city'] = [item for sublist in cities for item in sublist]"
   ]
  },
  {
   "cell_type": "markdown",
   "metadata": {},
   "source": [
    "------"
   ]
  },
  {
   "cell_type": "code",
   "execution_count": 225,
   "metadata": {
    "ExecuteTime": {
     "end_time": "2022-05-18T19:22:00.482666Z",
     "start_time": "2022-05-18T19:22:00.463576Z"
    }
   },
   "outputs": [
    {
     "data": {
      "text/plain": [
       "Index(['London', 'Bristol', 'Manchester', 'San Francisco', 'Leeds', 'New York',\n",
       "       'Aust', 'Edburgh', 'Glasgow', 'Chicago', 'Sydney', 'Remote',\n",
       "       'Melbourne', 'Toronto', 'Birmgham', 'Boston', 'Philadelphia',\n",
       "       'Brisbane', 'Dallas', 'Orlando'],\n",
       "      dtype='object')"
      ]
     },
     "execution_count": 225,
     "metadata": {},
     "output_type": "execute_result"
    }
   ],
   "source": [
    "subset = df_salary.city.value_counts().nlargest(20).index\n",
    "subset"
   ]
  },
  {
   "cell_type": "code",
   "execution_count": 261,
   "metadata": {
    "ExecuteTime": {
     "end_time": "2022-05-18T19:34:11.310090Z",
     "start_time": "2022-05-18T19:34:11.290853Z"
    }
   },
   "outputs": [],
   "source": [
    "def filter_more(x):\n",
    "\n",
    "        if 'Melbourne' in x:\n",
    "            return 'Melbourne'\n",
    "        \n",
    "        elif 'Bristol' in x:\n",
    "            return 'Bristol'\n",
    "   \n",
    "        elif 'Manchester' in x:\n",
    "            return 'Manchester'\n",
    "        \n",
    "        elif 'Bristol' in x:\n",
    "            return 'Bristol'\n",
    "        \n",
    "        elif 'San Francisco' in x:\n",
    "            return 'San Francisco' \n",
    "        \n",
    "        elif 'Leeds' in x:\n",
    "            return 'Leeds'\n",
    "        \n",
    "        elif 'New York' in x:\n",
    "            return 'New York'\n",
    "        \n",
    "        elif 'Aust' in x:\n",
    "            return 'Aust'\n",
    "        \n",
    "        elif 'Edburgh' in x:\n",
    "            return 'Edburgh'\n",
    "        \n",
    "        elif 'Glasgow' in x:\n",
    "            return 'Glasgow' \n",
    "        \n",
    "        elif 'Chicago' in x:\n",
    "            return 'Chicago'\n",
    "\n",
    "        elif 'Sydney' in x:\n",
    "            return 'Sydney'\n",
    "        \n",
    "        elif 'Remote' in x:\n",
    "            return 'Remote'\n",
    "        \n",
    "        elif 'Melbourne' in x:\n",
    "            return 'Melbourne'\n",
    "        \n",
    "        elif 'Toronto' in x:\n",
    "            return 'Toronto' \n",
    "        \n",
    "        elif 'Birmgham' in x:\n",
    "            return 'Birmgham'\n",
    "        \n",
    "        elif 'Boston' in x:\n",
    "            return 'Boston'\n",
    "        \n",
    "        elif 'Philadelphia' in x:\n",
    "            return 'Philadelphia'\n",
    "        \n",
    "        elif 'Brisbane' in x:\n",
    "            return 'Brisbane'\n",
    "        \n",
    "        elif 'Dallas' in x:\n",
    "            return 'Dallas' \n",
    "        \n",
    "        elif 'Orlando' in x:\n",
    "            return 'Orlando'\n",
    "        \n",
    "        elif 'Adelaide' in x:\n",
    "            return 'Adelaide'\n",
    "        \n",
    "        elif 'Baltimore' in x:\n",
    "            return 'Baltimore'\n",
    "        \n",
    "        elif 'London' in x:\n",
    "            return 'London'\n",
    "        \n",
    "        else:\n",
    "            return x"
   ]
  },
  {
   "cell_type": "code",
   "execution_count": 262,
   "metadata": {
    "ExecuteTime": {
     "end_time": "2022-05-18T19:34:12.346216Z",
     "start_time": "2022-05-18T19:34:12.330494Z"
    }
   },
   "outputs": [],
   "source": [
    "df_salary.city = df_salary.city.apply(filter_more)"
   ]
  },
  {
   "cell_type": "markdown",
   "metadata": {},
   "source": [
    "---------------"
   ]
  },
  {
   "cell_type": "markdown",
   "metadata": {},
   "source": [
    "## Cleaning the Job category"
   ]
  },
  {
   "cell_type": "markdown",
   "metadata": {},
   "source": [
    "I noticed upon inspection that some job categories have the word remote in them, I will strip them and make sure the remote category is correctly labeled for these jobs."
   ]
  },
  {
   "cell_type": "code",
   "execution_count": 228,
   "metadata": {
    "ExecuteTime": {
     "end_time": "2022-05-18T19:22:09.339646Z",
     "start_time": "2022-05-18T19:22:09.328502Z"
    }
   },
   "outputs": [],
   "source": [
    "def clean_job(x):\n",
    "    return re.sub(r'(R|r)emote', '', x.title())\n"
   ]
  },
  {
   "cell_type": "code",
   "execution_count": 229,
   "metadata": {
    "ExecuteTime": {
     "end_time": "2022-05-18T19:22:09.849908Z",
     "start_time": "2022-05-18T19:22:09.847385Z"
    }
   },
   "outputs": [],
   "source": [
    "def clean_job_numeric(x):\n",
    "    return re.sub('([0-9-]+)', '', x)"
   ]
  },
  {
   "cell_type": "code",
   "execution_count": 230,
   "metadata": {
    "ExecuteTime": {
     "end_time": "2022-05-18T19:22:14.785511Z",
     "start_time": "2022-05-18T19:22:14.763663Z"
    }
   },
   "outputs": [
    {
     "data": {
      "text/plain": [
       "0                                  Marketing Data analyst\n",
       "1                                    Supply Chain Analyst\n",
       "2       Data Architect  Financial Services  Data & Ana...\n",
       "3                            Senior Data Business Analyst\n",
       "4                Senior Data Warehouse Analyst  Education\n",
       "                              ...                        \n",
       "3286                      Senior Director of Data Science\n",
       "3287                               Data Scientist Manager\n",
       "3288                               Director, Data Science\n",
       "3289    Business Analyst  Text and Voice Modeling & An...\n",
       "3290                AFNORTH Business Intelligence Analyst\n",
       "Name: job_title, Length: 3291, dtype: object"
      ]
     },
     "execution_count": 230,
     "metadata": {},
     "output_type": "execute_result"
    }
   ],
   "source": [
    "df_salary.job_title.apply(clean_job_numeric)"
   ]
  },
  {
   "cell_type": "code",
   "execution_count": 231,
   "metadata": {
    "ExecuteTime": {
     "end_time": "2022-05-18T19:22:21.069320Z",
     "start_time": "2022-05-18T19:22:21.040476Z"
    }
   },
   "outputs": [],
   "source": [
    "df_salary.job_title = df_salary.job_title.str.rstrip().str.lstrip()\n",
    "df_salary.job_title = df_salary.job_title.apply(clean_job)\n",
    "df_salary.job_title = df_salary.job_title.apply(clean_job_numeric)"
   ]
  },
  {
   "cell_type": "code",
   "execution_count": 263,
   "metadata": {
    "ExecuteTime": {
     "end_time": "2022-05-18T19:34:25.326022Z",
     "start_time": "2022-05-18T19:34:25.297043Z"
    }
   },
   "outputs": [],
   "source": [
    "df_salary.to_csv('df_final_no_log', index=False)"
   ]
  }
 ],
 "metadata": {
  "kernelspec": {
   "display_name": "Python 3 (ipykernel)",
   "language": "python",
   "name": "python3"
  },
  "language_info": {
   "codemirror_mode": {
    "name": "ipython",
    "version": 3
   },
   "file_extension": ".py",
   "mimetype": "text/x-python",
   "name": "python",
   "nbconvert_exporter": "python",
   "pygments_lexer": "ipython3",
   "version": "3.9.7"
  },
  "toc": {
   "base_numbering": 1,
   "nav_menu": {},
   "number_sections": false,
   "sideBar": true,
   "skip_h1_title": true,
   "title_cell": "Table of Contents",
   "title_sidebar": "Contents",
   "toc_cell": false,
   "toc_position": {},
   "toc_section_display": "block",
   "toc_window_display": false
  },
  "varInspector": {
   "cols": {
    "lenName": 16,
    "lenType": 16,
    "lenVar": 40
   },
   "kernels_config": {
    "python": {
     "delete_cmd_postfix": "",
     "delete_cmd_prefix": "del ",
     "library": "var_list.py",
     "varRefreshCmd": "print(var_dic_list())"
    },
    "r": {
     "delete_cmd_postfix": ") ",
     "delete_cmd_prefix": "rm(",
     "library": "var_list.r",
     "varRefreshCmd": "cat(var_dic_list()) "
    }
   },
   "types_to_exclude": [
    "module",
    "function",
    "builtin_function_or_method",
    "instance",
    "_Feature"
   ],
   "window_display": false
  }
 },
 "nbformat": 4,
 "nbformat_minor": 1
}
