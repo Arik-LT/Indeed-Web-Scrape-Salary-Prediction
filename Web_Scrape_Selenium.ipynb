{
 "cells": [
  {
   "cell_type": "code",
   "execution_count": 1,
   "id": "1ee94887",
   "metadata": {
    "ExecuteTime": {
     "end_time": "2022-05-05T14:55:06.176795Z",
     "start_time": "2022-05-05T14:55:04.644844Z"
    }
   },
   "outputs": [],
   "source": [
    "import numpy as np\n",
    "import pandas as pd\n",
    "from selenium import webdriver\n",
    "from webdriver_manager.chrome import ChromeDriverManager\n",
    "from time import time, sleep\n",
    "from selenium.webdriver.common.by import By"
   ]
  },
  {
   "cell_type": "code",
   "execution_count": 2,
   "id": "5364dbca",
   "metadata": {
    "ExecuteTime": {
     "end_time": "2022-05-04T17:17:30.465888Z",
     "start_time": "2022-05-04T17:17:30.443511Z"
    }
   },
   "outputs": [
    {
     "data": {
      "text/plain": [
       "\"\\nPATH = '/Users/ariklevy/Downloads/chromedriver.exe'\\ndriver = webdriver.Chrome(PATH)\\n\""
      ]
     },
     "execution_count": 2,
     "metadata": {},
     "output_type": "execute_result"
    }
   ],
   "source": [
    "\"\"\"\n",
    "PATH = '/Users/ariklevy/Downloads/chromedriver.exe'\n",
    "driver = webdriver.Chrome(PATH)\n",
    "\"\"\""
   ]
  },
  {
   "cell_type": "code",
   "execution_count": 6,
   "id": "a1b6e433",
   "metadata": {
    "ExecuteTime": {
     "end_time": "2022-05-05T15:20:46.600417Z",
     "start_time": "2022-05-05T15:20:43.686780Z"
    }
   },
   "outputs": [
    {
     "name": "stderr",
     "output_type": "stream",
     "text": [
      "\n",
      "\n",
      "====== WebDriver manager ======\n",
      "Current google-chrome version is 101.0.4951\n",
      "Get LATEST chromedriver version for 101.0.4951 google-chrome\n",
      "Driver [/Users/ariklevy/.wdm/drivers/chromedriver/mac64/101.0.4951.41/chromedriver] found in cache\n",
      "/var/folders/0g/2n4dpfnj6xg2x7twpn7nk6nh0000gn/T/ipykernel_5383/1503906442.py:1: DeprecationWarning: executable_path has been deprecated, please pass in a Service object\n",
      "  driver = webdriver.Chrome(ChromeDriverManager().install())\n"
     ]
    }
   ],
   "source": [
    "driver = webdriver.Chrome(ChromeDriverManager().install())"
   ]
  },
  {
   "cell_type": "code",
   "execution_count": 301,
   "id": "72f713db",
   "metadata": {
    "ExecuteTime": {
     "end_time": "2022-05-03T07:26:11.098272Z",
     "start_time": "2022-05-03T07:26:11.090875Z"
    }
   },
   "outputs": [],
   "source": [
    "job_location = ['Madrid','Barcelona']\n",
    "job_keyword = ['junior%20data']"
   ]
  },
  {
   "cell_type": "code",
   "execution_count": 3,
   "id": "8bec9d05",
   "metadata": {
    "ExecuteTime": {
     "end_time": "2022-05-05T14:55:35.704499Z",
     "start_time": "2022-05-05T14:55:35.691709Z"
    }
   },
   "outputs": [],
   "source": [
    "job_keyword = ['data', 'data%20analyst', 'data%20scientist', 'junior%20data%20scientist', 'business%20intelligence','junior%20data']\n",
    "job_location = ['London', 'Bristol', 'Manchester', 'Glasgow', 'Edinburgh', 'Leeds']"
   ]
  },
  {
   "cell_type": "code",
   "execution_count": 291,
   "id": "17163405",
   "metadata": {
    "ExecuteTime": {
     "end_time": "2022-05-03T07:16:15.225182Z",
     "start_time": "2022-05-03T07:16:15.212993Z"
    }
   },
   "outputs": [],
   "source": [
    "job_keyword = ['data%20analyst', 'junior%20data%20scientist', 'business%20intelligence', 'junior%20data']\n",
    "job_location = ['Madrid', 'Barcelona', 'Valencia', 'Malaga']"
   ]
  },
  {
   "cell_type": "code",
   "execution_count": 24,
   "id": "728ebbb6",
   "metadata": {
    "ExecuteTime": {
     "end_time": "2022-05-04T17:57:58.643964Z",
     "start_time": "2022-05-04T17:57:58.632973Z"
    }
   },
   "outputs": [],
   "source": [
    "job_keyword = ['data', 'data%20analyst', 'data%20scientist', \n",
    "               'junior%20data%20scientist', 'business%20intelligence','junior%20data']\n",
    "job_location = ['new%20york', 'California', 'San francisco', 'Philadelphia', \n",
    "                 'Chicago', 'Orlando', 'Austin', 'Dallas', 'Massachusetts']"
   ]
  },
  {
   "cell_type": "code",
   "execution_count": 13,
   "id": "bd9415bc",
   "metadata": {
    "ExecuteTime": {
     "end_time": "2022-05-05T15:31:56.822897Z",
     "start_time": "2022-05-05T15:31:54.919739Z"
    }
   },
   "outputs": [],
   "source": [
    "company = []\n",
    "location = []\n",
    "salary = []\n",
    "title = []\n",
    "\n",
    "\"\"\"\n",
    "for loc in job_location:\n",
    "    for word in job_keyword:\n",
    "        for i in range(10,40,10):\n",
    "\"\"\"\n",
    "\n",
    "URL = 'https://uk.indeed.com/jobs?q=data%20science&l=London&start=10&vjk=4a459977bb65e50e'\n",
    "driver.get(URL)\n",
    "jobs = driver.find_elements(By.CLASS_NAME, 'job_seen_beacon')\n",
    "\n",
    "for j in jobs:\n",
    "    try:\n",
    "        title.append(j.find_element(By.CLASS_NAME, 'jcs-JobTitle').text)\n",
    "    except:\n",
    "        title.append(np.nan)\n",
    "    try:\n",
    "        company.append(j.find_element(By.CLASS_NAME, 'companyName').text)\n",
    "    except:\n",
    "        company.append(np.nan)\n",
    "    try:\n",
    "        location.append(j.find_element(By.CLASS_NAME, 'companyLocation').text)\n",
    "    except:\n",
    "        location.append(np.nan)\n",
    "    try:\n",
    "        #salary.append(j.find_element(By.CSS_SELECTOR, '[aria-label=\"Salary\"]').text)\n",
    "        salary.append(j.find_element(By.CLASS_NAME, \"attribute_snippet\").text)\n",
    "    except:\n",
    "        salary.append(np.nan)"
   ]
  },
  {
   "cell_type": "code",
   "execution_count": 12,
   "id": "49360086",
   "metadata": {
    "ExecuteTime": {
     "end_time": "2022-05-05T15:23:23.870779Z",
     "start_time": "2022-05-05T15:23:23.866183Z"
    }
   },
   "outputs": [
    {
     "data": {
      "text/html": [
       "<div>\n",
       "<style scoped>\n",
       "    .dataframe tbody tr th:only-of-type {\n",
       "        vertical-align: middle;\n",
       "    }\n",
       "\n",
       "    .dataframe tbody tr th {\n",
       "        vertical-align: top;\n",
       "    }\n",
       "\n",
       "    .dataframe thead th {\n",
       "        text-align: right;\n",
       "    }\n",
       "</style>\n",
       "<table border=\"1\" class=\"dataframe\">\n",
       "  <thead>\n",
       "    <tr style=\"text-align: right;\">\n",
       "      <th></th>\n",
       "      <th>job_tilte</th>\n",
       "      <th>company</th>\n",
       "      <th>location</th>\n",
       "      <th>salary</th>\n",
       "    </tr>\n",
       "  </thead>\n",
       "  <tbody>\n",
       "  </tbody>\n",
       "</table>\n",
       "</div>"
      ],
      "text/plain": [
       "Empty DataFrame\n",
       "Columns: [job_tilte, company, location, salary]\n",
       "Index: []"
      ]
     },
     "execution_count": 12,
     "metadata": {},
     "output_type": "execute_result"
    }
   ],
   "source": [
    "df = pd.DataFrame({'job_tilte':title, 'company':company, 'location':location, 'salary':salary})\n",
    "df"
   ]
  },
  {
   "cell_type": "code",
   "execution_count": null,
   "id": "b3e10ee3",
   "metadata": {},
   "outputs": [],
   "source": [
    "df.to_csv('job_selenium_us')"
   ]
  }
 ],
 "metadata": {
  "kernelspec": {
   "display_name": "Python 3 (ipykernel)",
   "language": "python",
   "name": "python3"
  },
  "language_info": {
   "codemirror_mode": {
    "name": "ipython",
    "version": 3
   },
   "file_extension": ".py",
   "mimetype": "text/x-python",
   "name": "python",
   "nbconvert_exporter": "python",
   "pygments_lexer": "ipython3",
   "version": "3.9.7"
  },
  "varInspector": {
   "cols": {
    "lenName": 16,
    "lenType": 16,
    "lenVar": 40
   },
   "kernels_config": {
    "python": {
     "delete_cmd_postfix": "",
     "delete_cmd_prefix": "del ",
     "library": "var_list.py",
     "varRefreshCmd": "print(var_dic_list())"
    },
    "r": {
     "delete_cmd_postfix": ") ",
     "delete_cmd_prefix": "rm(",
     "library": "var_list.r",
     "varRefreshCmd": "cat(var_dic_list()) "
    }
   },
   "types_to_exclude": [
    "module",
    "function",
    "builtin_function_or_method",
    "instance",
    "_Feature"
   ],
   "window_display": false
  }
 },
 "nbformat": 4,
 "nbformat_minor": 5
}
